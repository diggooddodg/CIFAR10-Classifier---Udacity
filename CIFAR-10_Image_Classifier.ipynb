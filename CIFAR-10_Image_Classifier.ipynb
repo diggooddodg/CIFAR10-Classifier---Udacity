{
 "cells": [
  {
   "cell_type": "markdown",
   "metadata": {},
   "source": [
    "# Introduction\n",
    "\n",
    "In this project, you will build a neural network of your own design to evaluate the CIFAR-10 dataset.\n",
    "Our target accuracy is 70%, but any accuracy over 50% is a great start.\n",
    "Some of the benchmark results on CIFAR-10 include:\n",
    "\n",
    "78.9% Accuracy | [Deep Belief Networks; Krizhevsky, 2010](https://www.cs.toronto.edu/~kriz/conv-cifar10-aug2010.pdf)\n",
    "\n",
    "90.6% Accuracy | [Maxout Networks; Goodfellow et al., 2013](https://arxiv.org/pdf/1302.4389.pdf)\n",
    "\n",
    "96.0% Accuracy | [Wide Residual Networks; Zagoruyko et al., 2016](https://arxiv.org/pdf/1605.07146.pdf)\n",
    "\n",
    "99.0% Accuracy | [GPipe; Huang et al., 2018](https://arxiv.org/pdf/1811.06965.pdf)\n",
    "\n",
    "98.5% Accuracy | [Rethinking Recurrent Neural Networks and other Improvements for ImageClassification; Nguyen et al., 2020](https://arxiv.org/pdf/2007.15161.pdf)\n",
    "\n",
    "Research with this dataset is ongoing. Notably, many of these networks are quite large and quite expensive to train. \n",
    "\n",
    "## Imports"
   ]
  },
  {
   "cell_type": "code",
   "execution_count": 3,
   "metadata": {},
   "outputs": [],
   "source": [
    "## This cell contains the essential imports you will need – DO NOT CHANGE THE CONTENTS! ##\n",
    "import torch\n",
    "import torch.nn.functional as F\n",
    "from torch import nn, optim\n",
    "from torchvision import transforms, datasets\n",
    "import matplotlib.pyplot as plt\n",
    "import numpy as np\n",
    "from datetime import datetime\n",
    "import pytz\n",
    "import time"
   ]
  },
  {
   "cell_type": "markdown",
   "metadata": {},
   "source": [
    "## Load the Dataset\n",
    "\n",
    "Specify your transforms as a list first.\n",
    "The transforms module is already loaded as `transforms`.\n",
    "\n",
    "CIFAR-10 is fortunately included in the torchvision module.\n",
    "Then, you can create your dataset using the `CIFAR10` object from `torchvision.datasets` ([the documentation is available here](https://pytorch.org/docs/stable/torchvision/datasets.html#cifar)).\n",
    "Make sure to specify `download=True`! \n",
    "\n",
    "Once your dataset is created, you'll also need to define a `DataLoader` from the `torch.utils.data` module for both the train and the test set."
   ]
  },
  {
   "cell_type": "code",
   "execution_count": 4,
   "metadata": {},
   "outputs": [
    {
     "name": "stdout",
     "output_type": "stream",
     "text": [
      "Files already downloaded and verified\n",
      "Files already downloaded and verified\n",
      "Files already downloaded and verified\n"
     ]
    }
   ],
   "source": [
    "# Define transforms\n",
    "train_transforms = transforms.Compose([transforms.RandomRotation(30),\n",
    "                                       transforms.RandomHorizontalFlip(),\n",
    "                                       transforms.ToTensor(),\n",
    "                                       transforms.Normalize([0.5, 0.5, 0.5],\n",
    "                                                            [0.5, 0.5, 0.5])])\n",
    "\n",
    "validation_transforms = transforms.Compose([transforms.ToTensor(),\n",
    "                                      transforms.Normalize([0.5, 0.5, 0.5],\n",
    "                                                           [0.5, 0.5, 0.5])])\n",
    "\n",
    "#transform to be used to view images: \n",
    "#test_transform = transforms.Compose([transforms.ToTensor()])\n",
    "\n",
    "test_transforms = transforms.Compose([transforms.ToTensor(),\n",
    "                                     transforms.Normalize([0.5, 0.5, 0.5],\n",
    "                                                           [0.5, 0.5, 0.5])])\n",
    "\n",
    "\n",
    "# Create training set and define training dataloader\n",
    "train_data = datasets.CIFAR10(\"train_dir\", train = True, transform=train_transforms, download = True)\n",
    "trainloader = torch.utils.data.DataLoader(train_data, batch_size=64, shuffle=True)\n",
    "\n",
    "# Create validation set and define validation dataloader\n",
    "validation_data = datasets.CIFAR10(\"validation_dir\", train = False, transform=validation_transforms, download = True)\n",
    "validationloader = torch.utils.data.DataLoader(validation_data, batch_size=64)\n",
    "\n",
    "# Create test set and define test dataloader\n",
    "test_data = datasets.CIFAR10(\"test_dir\", train = False, transform=test_transforms, download = True)\n",
    "testloader = torch.utils.data.DataLoader(test_data, batch_size=64)\n",
    "\n",
    "# The 10 classes in the dataset\n",
    "classes = ('plane', 'car', 'bird', 'cat', 'deer', 'dog', 'frog', 'horse', 'ship', 'truck')"
   ]
  },
  {
   "cell_type": "code",
   "execution_count": 5,
   "metadata": {},
   "outputs": [
    {
     "data": {
      "text/plain": [
       "(torch.Size([64, 3, 32, 32]), torch.Size([64]))"
      ]
     },
     "execution_count": 5,
     "metadata": {},
     "output_type": "execute_result"
    }
   ],
   "source": [
    "# determine shape of images and labels\n",
    "dataiter=iter(trainloader)\n",
    "images,labels=next(dataiter)\n",
    "images.shape,labels.shape"
   ]
  },
  {
   "cell_type": "markdown",
   "metadata": {},
   "source": [
    "Image size is 3 colour channels times 32 by 32 pixels so: <br>\n",
    "a) input features for network need to be 3 * 32 * 32 = 3072, and <br>\n",
    "b) Need to flatten the images so has shape = (batch size, 3072)<br>\n",
    "<br>\n",
    "There are ten classes so there will be 10 output nodes therefore the output shape for each batch will be 64,10 i.e. a row for each input and a column for each output node. The loss function will compare outputs and labels therefore the labels shape must be the same????? "
   ]
  },
  {
   "cell_type": "code",
   "execution_count": 6,
   "metadata": {},
   "outputs": [
    {
     "data": {
      "text/plain": [
       "torch.Size([64, 3072])"
      ]
     },
     "execution_count": 6,
     "metadata": {},
     "output_type": "execute_result"
    }
   ],
   "source": [
    "# basic non-convolutional network only: create an inputs tensor by flattening the images tensor\n",
    "# - this will be applied to each dataset in the training and test code below\n",
    "inputs = images.view(images.shape[0],-1) #this should create features shape of 64, 3072\n",
    "inputs.shape"
   ]
  },
  {
   "cell_type": "code",
   "execution_count": 7,
   "metadata": {},
   "outputs": [
    {
     "data": {
      "text/plain": [
       "{'airplane': 0,\n",
       " 'automobile': 1,\n",
       " 'bird': 2,\n",
       " 'cat': 3,\n",
       " 'deer': 4,\n",
       " 'dog': 5,\n",
       " 'frog': 6,\n",
       " 'horse': 7,\n",
       " 'ship': 8,\n",
       " 'truck': 9}"
      ]
     },
     "execution_count": 7,
     "metadata": {},
     "output_type": "execute_result"
    }
   ],
   "source": [
    "#view the class to output index dictionary\n",
    "test_data.class_to_idx"
   ]
  },
  {
   "cell_type": "markdown",
   "metadata": {},
   "source": [
    "## Explore the Dataset\n",
    "Using matplotlib, numpy, and torch, explore the dimensions of your data.\n",
    "\n",
    "You can view images using the `show5` function defined below – it takes a data loader as an argument.\n",
    "Remember that normalized images will look really weird to you! You may want to try changing your transforms to view images.\n",
    "Typically using no transforms other than `toTensor()` works well for viewing – but not as well for training your network.\n",
    "If `show5` doesn't work, go back and check your code for creating your data loaders and your training/test sets."
   ]
  },
  {
   "cell_type": "code",
   "execution_count": 6,
   "metadata": {},
   "outputs": [],
   "source": [
    "def show5(img_loader):\n",
    "    dataiter = iter(img_loader)\n",
    "    \n",
    "    batch = next(dataiter)\n",
    "    labels = batch[1][0:5]\n",
    "    images = batch[0][0:5]\n",
    "    for i in range(5):\n",
    "        print(classes[labels[i]])\n",
    "    \n",
    "        image = images[i].numpy()\n",
    "        plt.imshow(image.T)\n",
    "        plt.show()"
   ]
  },
  {
   "cell_type": "code",
   "execution_count": 7,
   "metadata": {},
   "outputs": [
    {
     "name": "stderr",
     "output_type": "stream",
     "text": [
      "Clipping input data to the valid range for imshow with RGB data ([0..1] for floats or [0..255] for integers).\n"
     ]
    },
    {
     "name": "stdout",
     "output_type": "stream",
     "text": [
      "cat\n"
     ]
    },
    {
     "data": {
      "image/png": "[encoded data removed]",
      "text/plain": [
       "<Figure size 640x480 with 1 Axes>"
      ]
     },
     "metadata": {},
     "output_type": "display_data"
    },
    {
     "name": "stderr",
     "output_type": "stream",
     "text": [
      "Clipping input data to the valid range for imshow with RGB data ([0..1] for floats or [0..255] for integers).\n"
     ]
    },
    {
     "name": "stdout",
     "output_type": "stream",
     "text": [
      "ship\n"
     ]
    },
    {
     "data": {
      "image/png": "[encoded data removed]",
      "text/plain": [
       "<Figure size 640x480 with 1 Axes>"
      ]
     },
     "metadata": {},
     "output_type": "display_data"
    },
    {
     "name": "stderr",
     "output_type": "stream",
     "text": [
      "Clipping input data to the valid range for imshow with RGB data ([0..1] for floats or [0..255] for integers).\n"
     ]
    },
    {
     "name": "stdout",
     "output_type": "stream",
     "text": [
      "ship\n"
     ]
    },
    {
     "data": {
      "image/png": "[encoded data removed]",
      "text/plain": [
       "<Figure size 640x480 with 1 Axes>"
      ]
     },
     "metadata": {},
     "output_type": "display_data"
    },
    {
     "name": "stderr",
     "output_type": "stream",
     "text": [
      "Clipping input data to the valid range for imshow with RGB data ([0..1] for floats or [0..255] for integers).\n"
     ]
    },
    {
     "name": "stdout",
     "output_type": "stream",
     "text": [
      "plane\n"
     ]
    },
    {
     "data": {
      "image/png": "[encoded data removed]",
      "text/plain": [
       "<Figure size 640x480 with 1 Axes>"
      ]
     },
     "metadata": {},
     "output_type": "display_data"
    },
    {
     "name": "stderr",
     "output_type": "stream",
     "text": [
      "Clipping input data to the valid range for imshow with RGB data ([0..1] for floats or [0..255] for integers).\n"
     ]
    },
    {
     "name": "stdout",
     "output_type": "stream",
     "text": [
      "frog\n"
     ]
    },
    {
     "data": {
      "image/png": "[encoded data removed]",
      "text/plain": [
       "<Figure size 640x480 with 1 Axes>"
      ]
     },
     "metadata": {},
     "output_type": "display_data"
    }
   ],
   "source": [
    "# Explore data\n",
    "show5(testloader)"
   ]
  },
  {
   "cell_type": "markdown",
   "metadata": {},
   "source": [
    "## Build your Neural Network\n",
    "Using the layers in `torch.nn` (which has been imported as `nn`) and the `torch.nn.functional` module (imported as `F`), construct a neural network based on the parameters of the dataset. \n",
    "Feel free to construct a model of any architecture – feedforward, convolutional, or even something more advanced!"
   ]
  },
  {
   "cell_type": "code",
   "execution_count": 8,
   "metadata": {},
   "outputs": [],
   "source": [
    "class Network(nn.Module):\n",
    "    def __init__(self):\n",
    "        super().__init__()\n",
    "        # Using fc = fully connected so that the following weights and bias initialisation will work\n",
    "        self.fc1 = nn.Linear(3072, 1024)\n",
    "        # First hidden layer to second hidden layer linear transformation\n",
    "        self.fc2 = nn.Linear(1024, 256)\n",
    "        # Output layer, 10 units - one for each class\n",
    "        self.fc3 = nn.Linear(256, 10)\n",
    "        self.dropout = nn.Dropout(0.25)\n",
    "        \n",
    "    def forward(self, x):\n",
    "        # First hidden layer with relu activation\n",
    "        x = self.dropout(F.relu(self.fc1(x)))\n",
    "        # Second  hidden layer with relu activation\n",
    "        x = self.dropout(F.relu(self.fc2(x)))\n",
    "        # Output layer with softmax activation\n",
    "        x = F.log_softmax(self.fc3(x), dim=1)\n",
    "        \n",
    "        return x"
   ]
  },
  {
   "cell_type": "markdown",
   "metadata": {},
   "source": [
    "Above model validation accuracy did not rise above 33% so using a convolutional neural network as below. "
   ]
  },
  {
   "cell_type": "code",
   "execution_count": 14,
   "metadata": {},
   "outputs": [],
   "source": [
    "## To help me I used https://pytorch.org/tutorials/beginner/blitz/cifar10_tutorial.html and \n",
    "## Pytorch Tutorial on GitHub https://github.com/pytorch/tutorials/blob/master/beginner_source/blitz/cifar10_tutorial.py \n",
    "\n",
    "class Net(nn.Module):\n",
    "    def __init__(self):\n",
    "        super(Net, self).__init__()\n",
    "        self.conv1 = nn.Conv2d(3, 24, 3)\n",
    "        self.pool = nn.MaxPool2d(2, 2)\n",
    "        self.conv2 = nn.Conv2d(24, 34, 3)\n",
    "        self.fc1 = nn.Linear(34 * 6 * 6, 100)\n",
    "        self.fc2 = nn.Linear(100, 80)\n",
    "        self.fc3 = nn.Linear(80, 10)\n",
    "        self.dropout = nn.Dropout(0.25)\n",
    "\n",
    "    def forward(self, x):\n",
    "        x = self.pool(F.relu(self.conv1(x)))\n",
    "        x = self.pool(F.relu(self.conv2(x)))\n",
    "        x = x.view(-1, 34 * 6 * 6)\n",
    "        x = F.relu(self.fc1(x))\n",
    "        x = F.relu(self.fc2(x))\n",
    "        x = F.dropout(x, training=self.training)\n",
    "        x = F.log_softmax(self.fc3(x), dim=1)\n",
    "        return x"
   ]
  },
  {
   "cell_type": "code",
   "execution_count": 15,
   "metadata": {},
   "outputs": [
    {
     "data": {
      "text/plain": [
       "Net(\n",
       "  (conv1): Conv2d(3, 24, kernel_size=(3, 3), stride=(1, 1))\n",
       "  (pool): MaxPool2d(kernel_size=2, stride=2, padding=0, dilation=1, ceil_mode=False)\n",
       "  (conv2): Conv2d(24, 34, kernel_size=(3, 3), stride=(1, 1))\n",
       "  (fc1): Linear(in_features=1224, out_features=100, bias=True)\n",
       "  (fc2): Linear(in_features=100, out_features=80, bias=True)\n",
       "  (fc3): Linear(in_features=80, out_features=10, bias=True)\n",
       "  (dropout): Dropout(p=0.25, inplace=False)\n",
       ")"
      ]
     },
     "execution_count": 15,
     "metadata": {},
     "output_type": "execute_result"
    }
   ],
   "source": [
    "#instantiate the model\n",
    "model = Net()\n",
    "\n",
    "#view model to double check number input nodes \n",
    "model"
   ]
  },
  {
   "cell_type": "markdown",
   "metadata": {},
   "source": [
    "Specify a loss function and an optimizer, and instantiate the model.\n",
    "\n",
    "If you use a less common loss function, please note why you chose that loss function in a comment."
   ]
  },
  {
   "cell_type": "code",
   "execution_count": 16,
   "metadata": {},
   "outputs": [],
   "source": [
    "#define loss function\n",
    "criterion = nn.NLLLoss()\n",
    "\n",
    "# define optimiser\n",
    "optimizer = optim.Adam(model.parameters(), lr=0.003)"
   ]
  },
  {
   "cell_type": "markdown",
   "metadata": {},
   "source": [
    "## Running your Neural Network\n",
    "Use whatever method you like to train your neural network, and ensure you record the average loss at each epoch. \n",
    "Don't forget to use `torch.device()` and the `.to()` method for both your model and your data if you are using GPU!\n",
    "\n",
    "If you want to print your loss during each epoch, you can use the `enumerate` function and print the loss after a set number of batches. 250 batches works well for most people!"
   ]
  },
  {
   "cell_type": "code",
   "execution_count": 18,
   "metadata": {
    "scrolled": false
   },
   "outputs": [
    {
     "name": "stdout",
     "output_type": "stream",
     "text": [
      "Device = cuda  Time for this batch: 0.835 seconds   Epoch: 1/5   Batch: 50/782  Training Loss: 2.151  Validation Loss: 1.970  Validation Accuracy: 0.283\n",
      "Device = cuda  Time for this batch: 0.850 seconds   Epoch: 1/5   Batch: 100/782  Training Loss: 1.917  Validation Loss: 1.786  Validation Accuracy: 0.350\n",
      "Device = cuda  Time for this batch: 0.843 seconds   Epoch: 1/5   Batch: 150/782  Training Loss: 1.831  Validation Loss: 1.682  Validation Accuracy: 0.392\n",
      "Device = cuda  Time for this batch: 0.865 seconds   Epoch: 1/5   Batch: 200/782  Training Loss: 1.730  Validation Loss: 1.585  Validation Accuracy: 0.399\n",
      "Device = cuda  Time for this batch: 0.886 seconds   Epoch: 1/5   Batch: 250/782  Training Loss: 1.716  Validation Loss: 1.537  Validation Accuracy: 0.433\n",
      "Device = cuda  Time for this batch: 0.887 seconds   Epoch: 1/5   Batch: 300/782  Training Loss: 1.656  Validation Loss: 1.579  Validation Accuracy: 0.413\n",
      "Device = cuda  Time for this batch: 0.879 seconds   Epoch: 1/5   Batch: 350/782  Training Loss: 1.665  Validation Loss: 1.540  Validation Accuracy: 0.445\n",
      "Device = cuda  Time for this batch: 0.878 seconds   Epoch: 1/5   Batch: 400/782  Training Loss: 1.633  Validation Loss: 1.513  Validation Accuracy: 0.443\n",
      "Device = cuda  Time for this batch: 0.889 seconds   Epoch: 1/5   Batch: 450/782  Training Loss: 1.573  Validation Loss: 1.439  Validation Accuracy: 0.468\n",
      "Device = cuda  Time for this batch: 0.883 seconds   Epoch: 1/5   Batch: 500/782  Training Loss: 1.568  Validation Loss: 1.434  Validation Accuracy: 0.479\n",
      "Device = cuda  Time for this batch: 0.887 seconds   Epoch: 1/5   Batch: 550/782  Training Loss: 1.569  Validation Loss: 1.454  Validation Accuracy: 0.479\n",
      "Device = cuda  Time for this batch: 0.881 seconds   Epoch: 1/5   Batch: 600/782  Training Loss: 1.513  Validation Loss: 1.377  Validation Accuracy: 0.500\n",
      "Device = cuda  Time for this batch: 0.902 seconds   Epoch: 1/5   Batch: 650/782  Training Loss: 1.515  Validation Loss: 1.410  Validation Accuracy: 0.491\n",
      "Device = cuda  Time for this batch: 0.902 seconds   Epoch: 1/5   Batch: 700/782  Training Loss: 1.538  Validation Loss: 1.393  Validation Accuracy: 0.508\n",
      "Device = cuda  Time for this batch: 0.903 seconds   Epoch: 1/5   Batch: 750/782  Training Loss: 1.527  Validation Loss: 1.376  Validation Accuracy: 0.504\n",
      "Device = cuda  Time for this batch: 0.909 seconds   Epoch: 2/5   Batch: 800/782  Training Loss: 1.518  Validation Loss: 1.378  Validation Accuracy: 0.501\n",
      "Device = cuda  Time for this batch: 0.909 seconds   Epoch: 2/5   Batch: 850/782  Training Loss: 1.477  Validation Loss: 1.364  Validation Accuracy: 0.503\n",
      "Device = cuda  Time for this batch: 0.864 seconds   Epoch: 2/5   Batch: 900/782  Training Loss: 1.496  Validation Loss: 1.344  Validation Accuracy: 0.515\n",
      "Device = cuda  Time for this batch: 0.872 seconds   Epoch: 2/5   Batch: 950/782  Training Loss: 1.464  Validation Loss: 1.363  Validation Accuracy: 0.509\n",
      "Device = cuda  Time for this batch: 0.848 seconds   Epoch: 2/5   Batch: 1000/782  Training Loss: 1.469  Validation Loss: 1.290  Validation Accuracy: 0.538\n",
      "Device = cuda  Time for this batch: 0.837 seconds   Epoch: 2/5   Batch: 1050/782  Training Loss: 1.461  Validation Loss: 1.323  Validation Accuracy: 0.529\n",
      "Device = cuda  Time for this batch: 0.846 seconds   Epoch: 2/5   Batch: 1100/782  Training Loss: 1.448  Validation Loss: 1.322  Validation Accuracy: 0.518\n",
      "Device = cuda  Time for this batch: 0.844 seconds   Epoch: 2/5   Batch: 1150/782  Training Loss: 1.426  Validation Loss: 1.301  Validation Accuracy: 0.531\n",
      "Device = cuda  Time for this batch: 0.844 seconds   Epoch: 2/5   Batch: 1200/782  Training Loss: 1.440  Validation Loss: 1.269  Validation Accuracy: 0.546\n",
      "Device = cuda  Time for this batch: 0.856 seconds   Epoch: 2/5   Batch: 1250/782  Training Loss: 1.417  Validation Loss: 1.248  Validation Accuracy: 0.550\n",
      "Device = cuda  Time for this batch: 0.839 seconds   Epoch: 2/5   Batch: 1300/782  Training Loss: 1.423  Validation Loss: 1.245  Validation Accuracy: 0.551\n",
      "Device = cuda  Time for this batch: 0.843 seconds   Epoch: 2/5   Batch: 1350/782  Training Loss: 1.390  Validation Loss: 1.277  Validation Accuracy: 0.544\n",
      "Device = cuda  Time for this batch: 0.858 seconds   Epoch: 2/5   Batch: 1400/782  Training Loss: 1.398  Validation Loss: 1.263  Validation Accuracy: 0.551\n",
      "Device = cuda  Time for this batch: 0.854 seconds   Epoch: 2/5   Batch: 1450/782  Training Loss: 1.411  Validation Loss: 1.286  Validation Accuracy: 0.532\n",
      "Device = cuda  Time for this batch: 0.846 seconds   Epoch: 2/5   Batch: 1500/782  Training Loss: 1.422  Validation Loss: 1.286  Validation Accuracy: 0.540\n",
      "Device = cuda  Time for this batch: 0.843 seconds   Epoch: 2/5   Batch: 1550/782  Training Loss: 1.440  Validation Loss: 1.287  Validation Accuracy: 0.544\n",
      "Device = cuda  Time for this batch: 0.862 seconds   Epoch: 3/5   Batch: 1600/782  Training Loss: 1.360  Validation Loss: 1.254  Validation Accuracy: 0.559\n",
      "Device = cuda  Time for this batch: 0.863 seconds   Epoch: 3/5   Batch: 1650/782  Training Loss: 1.401  Validation Loss: 1.260  Validation Accuracy: 0.546\n",
      "Device = cuda  Time for this batch: 0.895 seconds   Epoch: 3/5   Batch: 1700/782  Training Loss: 1.352  Validation Loss: 1.233  Validation Accuracy: 0.563\n",
      "Device = cuda  Time for this batch: 0.862 seconds   Epoch: 3/5   Batch: 1750/782  Training Loss: 1.344  Validation Loss: 1.227  Validation Accuracy: 0.563\n",
      "Device = cuda  Time for this batch: 0.851 seconds   Epoch: 3/5   Batch: 1800/782  Training Loss: 1.345  Validation Loss: 1.241  Validation Accuracy: 0.558\n",
      "Device = cuda  Time for this batch: 0.842 seconds   Epoch: 3/5   Batch: 1850/782  Training Loss: 1.343  Validation Loss: 1.208  Validation Accuracy: 0.567\n",
      "Device = cuda  Time for this batch: 0.845 seconds   Epoch: 3/5   Batch: 1900/782  Training Loss: 1.325  Validation Loss: 1.263  Validation Accuracy: 0.551\n",
      "Device = cuda  Time for this batch: 0.868 seconds   Epoch: 3/5   Batch: 1950/782  Training Loss: 1.378  Validation Loss: 1.207  Validation Accuracy: 0.573\n",
      "Device = cuda  Time for this batch: 0.863 seconds   Epoch: 3/5   Batch: 2000/782  Training Loss: 1.363  Validation Loss: 1.232  Validation Accuracy: 0.558\n",
      "Device = cuda  Time for this batch: 0.869 seconds   Epoch: 3/5   Batch: 2050/782  Training Loss: 1.373  Validation Loss: 1.243  Validation Accuracy: 0.556\n",
      "Device = cuda  Time for this batch: 0.891 seconds   Epoch: 3/5   Batch: 2100/782  Training Loss: 1.334  Validation Loss: 1.233  Validation Accuracy: 0.558\n",
      "Device = cuda  Time for this batch: 0.896 seconds   Epoch: 3/5   Batch: 2150/782  Training Loss: 1.358  Validation Loss: 1.196  Validation Accuracy: 0.578\n",
      "Device = cuda  Time for this batch: 0.913 seconds   Epoch: 3/5   Batch: 2200/782  Training Loss: 1.353  Validation Loss: 1.208  Validation Accuracy: 0.571\n",
      "Device = cuda  Time for this batch: 0.872 seconds   Epoch: 3/5   Batch: 2250/782  Training Loss: 1.344  Validation Loss: 1.205  Validation Accuracy: 0.573\n",
      "Device = cuda  Time for this batch: 0.876 seconds   Epoch: 3/5   Batch: 2300/782  Training Loss: 1.320  Validation Loss: 1.184  Validation Accuracy: 0.581\n",
      "Device = cuda  Time for this batch: 0.866 seconds   Epoch: 4/5   Batch: 2350/782  Training Loss: 1.326  Validation Loss: 1.201  Validation Accuracy: 0.583\n",
      "Device = cuda  Time for this batch: 0.910 seconds   Epoch: 4/5   Batch: 2400/782  Training Loss: 1.301  Validation Loss: 1.221  Validation Accuracy: 0.573\n",
      "Device = cuda  Time for this batch: 0.929 seconds   Epoch: 4/5   Batch: 2450/782  Training Loss: 1.365  Validation Loss: 1.212  Validation Accuracy: 0.573\n",
      "Device = cuda  Time for this batch: 0.973 seconds   Epoch: 4/5   Batch: 2500/782  Training Loss: 1.346  Validation Loss: 1.207  Validation Accuracy: 0.576\n",
      "Device = cuda  Time for this batch: 0.963 seconds   Epoch: 4/5   Batch: 2550/782  Training Loss: 1.312  Validation Loss: 1.197  Validation Accuracy: 0.578\n",
      "Device = cuda  Time for this batch: 0.987 seconds   Epoch: 4/5   Batch: 2600/782  Training Loss: 1.298  Validation Loss: 1.243  Validation Accuracy: 0.564\n",
      "Device = cuda  Time for this batch: 0.985 seconds   Epoch: 4/5   Batch: 2650/782  Training Loss: 1.331  Validation Loss: 1.191  Validation Accuracy: 0.582\n"
     ]
    },
    {
     "name": "stdout",
     "output_type": "stream",
     "text": [
      "Device = cuda  Time for this batch: 0.974 seconds   Epoch: 4/5   Batch: 2700/782  Training Loss: 1.282  Validation Loss: 1.182  Validation Accuracy: 0.590\n",
      "Device = cuda  Time for this batch: 0.999 seconds   Epoch: 4/5   Batch: 2750/782  Training Loss: 1.321  Validation Loss: 1.168  Validation Accuracy: 0.587\n",
      "Device = cuda  Time for this batch: 0.987 seconds   Epoch: 4/5   Batch: 2800/782  Training Loss: 1.319  Validation Loss: 1.172  Validation Accuracy: 0.588\n",
      "Device = cuda  Time for this batch: 1.011 seconds   Epoch: 4/5   Batch: 2850/782  Training Loss: 1.295  Validation Loss: 1.174  Validation Accuracy: 0.584\n",
      "Device = cuda  Time for this batch: 1.003 seconds   Epoch: 4/5   Batch: 2900/782  Training Loss: 1.321  Validation Loss: 1.145  Validation Accuracy: 0.597\n",
      "Device = cuda  Time for this batch: 0.989 seconds   Epoch: 4/5   Batch: 2950/782  Training Loss: 1.302  Validation Loss: 1.148  Validation Accuracy: 0.594\n",
      "Device = cuda  Time for this batch: 1.000 seconds   Epoch: 4/5   Batch: 3000/782  Training Loss: 1.269  Validation Loss: 1.205  Validation Accuracy: 0.577\n",
      "Device = cuda  Time for this batch: 0.999 seconds   Epoch: 4/5   Batch: 3050/782  Training Loss: 1.318  Validation Loss: 1.169  Validation Accuracy: 0.587\n",
      "Device = cuda  Time for this batch: 0.972 seconds   Epoch: 4/5   Batch: 3100/782  Training Loss: 1.293  Validation Loss: 1.166  Validation Accuracy: 0.593\n",
      "Device = cuda  Time for this batch: 0.981 seconds   Epoch: 5/5   Batch: 3150/782  Training Loss: 1.295  Validation Loss: 1.159  Validation Accuracy: 0.595\n",
      "Device = cuda  Time for this batch: 1.015 seconds   Epoch: 5/5   Batch: 3200/782  Training Loss: 1.234  Validation Loss: 1.134  Validation Accuracy: 0.598\n",
      "Device = cuda  Time for this batch: 0.988 seconds   Epoch: 5/5   Batch: 3250/782  Training Loss: 1.302  Validation Loss: 1.141  Validation Accuracy: 0.594\n",
      "Device = cuda  Time for this batch: 0.991 seconds   Epoch: 5/5   Batch: 3300/782  Training Loss: 1.258  Validation Loss: 1.145  Validation Accuracy: 0.590\n",
      "Device = cuda  Time for this batch: 0.964 seconds   Epoch: 5/5   Batch: 3350/782  Training Loss: 1.263  Validation Loss: 1.156  Validation Accuracy: 0.593\n",
      "Device = cuda  Time for this batch: 0.975 seconds   Epoch: 5/5   Batch: 3400/782  Training Loss: 1.258  Validation Loss: 1.165  Validation Accuracy: 0.591\n",
      "Device = cuda  Time for this batch: 0.950 seconds   Epoch: 5/5   Batch: 3450/782  Training Loss: 1.259  Validation Loss: 1.164  Validation Accuracy: 0.589\n",
      "Device = cuda  Time for this batch: 0.979 seconds   Epoch: 5/5   Batch: 3500/782  Training Loss: 1.283  Validation Loss: 1.156  Validation Accuracy: 0.595\n",
      "Device = cuda  Time for this batch: 0.977 seconds   Epoch: 5/5   Batch: 3550/782  Training Loss: 1.275  Validation Loss: 1.140  Validation Accuracy: 0.601\n",
      "Device = cuda  Time for this batch: 0.991 seconds   Epoch: 5/5   Batch: 3600/782  Training Loss: 1.295  Validation Loss: 1.122  Validation Accuracy: 0.605\n",
      "Device = cuda  Time for this batch: 1.029 seconds   Epoch: 5/5   Batch: 3650/782  Training Loss: 1.265  Validation Loss: 1.179  Validation Accuracy: 0.585\n",
      "Device = cuda  Time for this batch: 0.995 seconds   Epoch: 5/5   Batch: 3700/782  Training Loss: 1.254  Validation Loss: 1.161  Validation Accuracy: 0.590\n",
      "Device = cuda  Time for this batch: 0.996 seconds   Epoch: 5/5   Batch: 3750/782  Training Loss: 1.260  Validation Loss: 1.132  Validation Accuracy: 0.601\n",
      "Device = cuda  Time for this batch: 0.976 seconds   Epoch: 5/5   Batch: 3800/782  Training Loss: 1.265  Validation Loss: 1.117  Validation Accuracy: 0.608\n",
      "Device = cuda  Time for this batch: 0.881 seconds   Epoch: 5/5   Batch: 3850/782  Training Loss: 1.239  Validation Loss: 1.178  Validation Accuracy: 0.588\n",
      "Device = cuda  Time for this batch: 0.862 seconds   Epoch: 5/5   Batch: 3900/782  Training Loss: 1.284  Validation Loss: 1.122  Validation Accuracy: 0.607\n"
     ]
    }
   ],
   "source": [
    "# Use GPU if it's available\n",
    "device = torch.device(\"cuda\" if torch.cuda.is_available() else \"cpu\")\n",
    "model.to(device)\n",
    "\n",
    "#set Variables for training\n",
    "epochs = 5\n",
    "training_steps = 0\n",
    "training_loss = 0\n",
    "validate_every = 50 #how often validation is done i.e. every <validate_every> batches\n",
    "\n",
    "#initialise lists for graphing\n",
    "running_training_loss = []\n",
    "running_validation_loss = []\n",
    "running_validation_accuracy = []\n",
    "\n",
    "for epoch in range(epochs):\n",
    "    for images, labels in trainloader:\n",
    "        start = time.time()\n",
    "        training_steps += 1\n",
    "        \n",
    "        #move image and label to device\n",
    "        images, labels = images.to(device), labels.to(device)\n",
    "        \n",
    "        #change shape of images so compatible with input layer (basic neural network only)\n",
    "        # inputs = images.view(images.shape[0],-1)\n",
    "        \n",
    "        #perform training steps\n",
    "        #optimiser gradient will accumulate so set to zero before calculating gradients each time\n",
    "        optimizer.zero_grad()\n",
    "        #find probabilities logps is used here because output is log_softmax NOT softmax\n",
    "        logps = model(images)\n",
    "        #Calculate loss overall\n",
    "        loss = criterion(logps, labels)\n",
    "        #calculate gradients for all parameters\n",
    "        loss.backward()\n",
    "        #Update parameters  \n",
    "        optimizer.step()\n",
    "        \n",
    "        training_loss += loss.item()\n",
    "        \n",
    "        #perform validation every <validate_every> batches\n",
    "        if training_steps % validate_every == 0:\n",
    "            model.eval()\n",
    "            validation_loss = 0\n",
    "            accuracy = 0\n",
    "            \n",
    "            #disable autograd for validation - gradients do not need to be calculated\n",
    "            with torch.no_grad():\n",
    "                #perform validation loop on each batch in the validation loader\n",
    "                for images, labels in validationloader:\n",
    "\n",
    "                    #move image and label to device\n",
    "                    images, labels = images.to(device), labels.to(device)\n",
    "                    \n",
    "                    #change cshape of images so compatible with input layer \n",
    "                    # (basic neural network only convolutional neural network takes in 3d data)\n",
    "                    # inputs = images.view(images.shape[0],-1)\n",
    "                    \n",
    "                    #find probabilities logps is used here because output is log_softmax NOT softmax\n",
    "                    logps = model(images)\n",
    "                    loss = criterion(logps, labels) #find the loss for this batch\n",
    "                    validation_loss += loss.item() #sum losses for all batches\n",
    "\n",
    "                    #calculate accuracy\n",
    "                    ps = torch.exp(logps)\n",
    "                    top_ps, top_class = ps.topk(1, dim = 1)\n",
    "                    equality = top_class == labels.view(*top_class.shape)\n",
    "                    accuracy += torch.mean(equality.type(torch.FloatTensor))\n",
    "            \n",
    "            running_training_loss.append(training_loss/validate_every)\n",
    "            running_validation_loss.append(validation_loss/len(validationloader))\n",
    "            running_validation_accuracy.append(accuracy/len(validationloader))\n",
    "            \n",
    "            \"\"\"with open('classifier_results_2.txt', 'a') as f:\n",
    "                f.write(f\"\\nDevice = {device} \\n \\\n",
    "                Date: {datetime.now(pytz.timezone('Pacific/Auckland'))} \\n \\\n",
    "                Time for this batch: {(time.time() - start)/3:.3f} seconds \\n \\\n",
    "                Epoch: {epoch + 1}/{epochs} \\n \\\n",
    "                Batch: {training_steps}/{len(trainloader)} \\n \\\n",
    "                Training Loss: {training_loss/validate_every:.3f} \\n \\\n",
    "                Validation Loss: {validation_loss/len(validationloader):.3f} \\n \\\n",
    "                Validation Accuracy: {accuracy/len(validationloader):.3f} \\n\")\"\"\"\n",
    "            \n",
    "            print(f\"Device = {device} \",\n",
    "                  f\"Time for this batch: {(time.time() - start)/3:.3f} seconds \",\n",
    "                  f\" Epoch: {epoch + 1}/{epochs} \",\n",
    "                  f\" Batch: {training_steps}/{len(trainloader)} \",\n",
    "                  f\"Training Loss: {training_loss/validate_every:.3f} \",\n",
    "                  f\"Validation Loss: {validation_loss/len(validationloader):.3f} \", #divide by number of batches to see average los\n",
    "                  f\"Validation Accuracy: {accuracy/len(validationloader):.3f}\") #divide by number of batches to see average accuracy\n",
    "            \n",
    "            training_loss = 0\n",
    "            model.train()"
   ]
  },
  {
   "cell_type": "markdown",
   "metadata": {},
   "source": [
    "Plot the training loss (and validation loss/accuracy, if recorded)."
   ]
  },
  {
   "cell_type": "code",
   "execution_count": 19,
   "metadata": {},
   "outputs": [
    {
     "data": {
      "image/png": "[encoded data removed]",
      "text/plain": [
       "<Figure size 800x400 with 1 Axes>"
      ]
     },
     "metadata": {},
     "output_type": "display_data"
    },
    {
     "data": {
      "image/png": "[encoded data removed]",
      "text/plain": [
       "<Figure size 800x400 with 1 Axes>"
      ]
     },
     "metadata": {},
     "output_type": "display_data"
    }
   ],
   "source": [
    "import matplotlib.pyplot as plt\n",
    "\n",
    "# Set graph size\n",
    "plt.figure(figsize=(8, 4))\n",
    "x = range(1, len(running_validation_accuracy) + 1)\n",
    "y = running_validation_accuracy\n",
    "plt.plot(x, y)\n",
    "# Label the axes\n",
    "plt.ylabel('Validation accuracy')\n",
    "plt.xlabel('Batch')\n",
    "plt.title('Validation accuracy during training')\n",
    "# Dsiplay the plot\n",
    "plt.show()\n",
    "\n",
    "# Set graph size\n",
    "plt.figure(figsize=(8, 4))\n",
    "x = range(1, len(running_training_loss) + 1)\n",
    "y = running_training_loss\n",
    "plt.plot(x, y, label = \"Training loss\")\n",
    "x = range(1, len(running_validation_loss) + 1)\n",
    "y = running_validation_loss\n",
    "plt.plot(x, y, label = \"Validation loss\")\n",
    "# Label the axes\n",
    "plt.ylabel('Loss')\n",
    "plt.xlabel('Batch')\n",
    "plt.title('Losses during training')\n",
    "plt.legend(frameon=False)\n",
    "# Dsiplay the plot\n",
    "plt.show()"
   ]
  },
  {
   "cell_type": "markdown",
   "metadata": {},
   "source": [
    "## Testing your model\n",
    "Using the previously created `DataLoader` for the test set, compute the percentage of correct predictions using the highest probability prediction. \n",
    "\n",
    "If your accuracy is over 70%, great work! \n",
    "This is a hard task to exceed 70% on.\n",
    "\n",
    "If your accuracy is under 45%, you'll need to make improvements.\n",
    "Go back and check your model architecture, loss function, and optimizer to make sure they're appropriate for an image classification task."
   ]
  },
  {
   "cell_type": "code",
   "execution_count": 21,
   "metadata": {},
   "outputs": [
    {
     "name": "stdout",
     "output_type": "stream",
     "text": [
      "Test batch: 1/157  Test loss: 1.124  Test accuracy: 0.625\n",
      "Test batch: 2/157  Test loss: 1.144  Test accuracy: 0.633\n",
      "Test batch: 3/157  Test loss: 1.179  Test accuracy: 0.589\n",
      "Test batch: 4/157  Test loss: 1.222  Test accuracy: 0.566\n",
      "Test batch: 5/157  Test loss: 1.229  Test accuracy: 0.556\n",
      "Test batch: 6/157  Test loss: 1.194  Test accuracy: 0.568\n",
      "Test batch: 7/157  Test loss: 1.200  Test accuracy: 0.567\n",
      "Test batch: 8/157  Test loss: 1.185  Test accuracy: 0.586\n",
      "Test batch: 9/157  Test loss: 1.145  Test accuracy: 0.597\n",
      "Test batch: 10/157  Test loss: 1.129  Test accuracy: 0.603\n",
      "Test batch: 11/157  Test loss: 1.142  Test accuracy: 0.599\n",
      "Test batch: 12/157  Test loss: 1.138  Test accuracy: 0.600\n",
      "Test batch: 13/157  Test loss: 1.139  Test accuracy: 0.602\n",
      "Test batch: 14/157  Test loss: 1.151  Test accuracy: 0.604\n",
      "Test batch: 15/157  Test loss: 1.145  Test accuracy: 0.604\n",
      "Test batch: 16/157  Test loss: 1.125  Test accuracy: 0.615\n",
      "Test batch: 17/157  Test loss: 1.129  Test accuracy: 0.614\n",
      "Test batch: 18/157  Test loss: 1.133  Test accuracy: 0.611\n",
      "Test batch: 19/157  Test loss: 1.123  Test accuracy: 0.615\n",
      "Test batch: 20/157  Test loss: 1.135  Test accuracy: 0.605\n",
      "Test batch: 21/157  Test loss: 1.128  Test accuracy: 0.603\n",
      "Test batch: 22/157  Test loss: 1.122  Test accuracy: 0.605\n",
      "Test batch: 23/157  Test loss: 1.112  Test accuracy: 0.603\n",
      "Test batch: 24/157  Test loss: 1.121  Test accuracy: 0.602\n",
      "Test batch: 25/157  Test loss: 1.122  Test accuracy: 0.598\n",
      "Test batch: 26/157  Test loss: 1.122  Test accuracy: 0.602\n",
      "Test batch: 27/157  Test loss: 1.120  Test accuracy: 0.604\n",
      "Test batch: 28/157  Test loss: 1.116  Test accuracy: 0.607\n",
      "Test batch: 29/157  Test loss: 1.116  Test accuracy: 0.608\n",
      "Test batch: 30/157  Test loss: 1.127  Test accuracy: 0.608\n",
      "Test batch: 31/157  Test loss: 1.126  Test accuracy: 0.608\n",
      "Test batch: 32/157  Test loss: 1.124  Test accuracy: 0.607\n",
      "Test batch: 33/157  Test loss: 1.122  Test accuracy: 0.607\n",
      "Test batch: 34/157  Test loss: 1.121  Test accuracy: 0.607\n",
      "Test batch: 35/157  Test loss: 1.119  Test accuracy: 0.609\n",
      "Test batch: 36/157  Test loss: 1.121  Test accuracy: 0.607\n",
      "Test batch: 37/157  Test loss: 1.120  Test accuracy: 0.609\n",
      "Test batch: 38/157  Test loss: 1.118  Test accuracy: 0.611\n",
      "Test batch: 39/157  Test loss: 1.120  Test accuracy: 0.611\n",
      "Test batch: 40/157  Test loss: 1.132  Test accuracy: 0.607\n",
      "Test batch: 41/157  Test loss: 1.136  Test accuracy: 0.605\n",
      "Test batch: 42/157  Test loss: 1.134  Test accuracy: 0.606\n",
      "Test batch: 43/157  Test loss: 1.137  Test accuracy: 0.603\n",
      "Test batch: 44/157  Test loss: 1.139  Test accuracy: 0.602\n",
      "Test batch: 45/157  Test loss: 1.140  Test accuracy: 0.603\n",
      "Test batch: 46/157  Test loss: 1.137  Test accuracy: 0.605\n",
      "Test batch: 47/157  Test loss: 1.137  Test accuracy: 0.605\n",
      "Test batch: 48/157  Test loss: 1.134  Test accuracy: 0.606\n",
      "Test batch: 49/157  Test loss: 1.135  Test accuracy: 0.605\n",
      "Test batch: 50/157  Test loss: 1.137  Test accuracy: 0.604\n",
      "Test batch: 51/157  Test loss: 1.137  Test accuracy: 0.605\n",
      "Test batch: 52/157  Test loss: 1.140  Test accuracy: 0.604\n",
      "Test batch: 53/157  Test loss: 1.139  Test accuracy: 0.604\n",
      "Test batch: 54/157  Test loss: 1.140  Test accuracy: 0.604\n",
      "Test batch: 55/157  Test loss: 1.142  Test accuracy: 0.606\n",
      "Test batch: 56/157  Test loss: 1.143  Test accuracy: 0.606\n",
      "Test batch: 57/157  Test loss: 1.145  Test accuracy: 0.605\n",
      "Test batch: 58/157  Test loss: 1.142  Test accuracy: 0.606\n",
      "Test batch: 59/157  Test loss: 1.142  Test accuracy: 0.606\n",
      "Test batch: 60/157  Test loss: 1.141  Test accuracy: 0.608\n",
      "Test batch: 61/157  Test loss: 1.140  Test accuracy: 0.607\n",
      "Test batch: 62/157  Test loss: 1.139  Test accuracy: 0.606\n",
      "Test batch: 63/157  Test loss: 1.139  Test accuracy: 0.606\n",
      "Test batch: 64/157  Test loss: 1.137  Test accuracy: 0.607\n",
      "Test batch: 65/157  Test loss: 1.138  Test accuracy: 0.608\n",
      "Test batch: 66/157  Test loss: 1.135  Test accuracy: 0.609\n",
      "Test batch: 67/157  Test loss: 1.132  Test accuracy: 0.610\n",
      "Test batch: 68/157  Test loss: 1.131  Test accuracy: 0.610\n",
      "Test batch: 69/157  Test loss: 1.131  Test accuracy: 0.611\n",
      "Test batch: 70/157  Test loss: 1.132  Test accuracy: 0.610\n",
      "Test batch: 71/157  Test loss: 1.132  Test accuracy: 0.610\n",
      "Test batch: 72/157  Test loss: 1.134  Test accuracy: 0.609\n",
      "Test batch: 73/157  Test loss: 1.131  Test accuracy: 0.610\n",
      "Test batch: 74/157  Test loss: 1.128  Test accuracy: 0.611\n",
      "Test batch: 75/157  Test loss: 1.129  Test accuracy: 0.611\n",
      "Test batch: 76/157  Test loss: 1.125  Test accuracy: 0.611\n",
      "Test batch: 77/157  Test loss: 1.124  Test accuracy: 0.612\n",
      "Test batch: 78/157  Test loss: 1.124  Test accuracy: 0.611\n",
      "Test batch: 79/157  Test loss: 1.123  Test accuracy: 0.612\n",
      "Test batch: 80/157  Test loss: 1.127  Test accuracy: 0.611\n",
      "Test batch: 81/157  Test loss: 1.124  Test accuracy: 0.612\n",
      "Test batch: 82/157  Test loss: 1.126  Test accuracy: 0.610\n",
      "Test batch: 83/157  Test loss: 1.123  Test accuracy: 0.611\n",
      "Test batch: 84/157  Test loss: 1.124  Test accuracy: 0.610\n",
      "Test batch: 85/157  Test loss: 1.124  Test accuracy: 0.609\n",
      "Test batch: 86/157  Test loss: 1.123  Test accuracy: 0.610\n",
      "Test batch: 87/157  Test loss: 1.125  Test accuracy: 0.609\n",
      "Test batch: 88/157  Test loss: 1.127  Test accuracy: 0.610\n",
      "Test batch: 89/157  Test loss: 1.127  Test accuracy: 0.609\n",
      "Test batch: 90/157  Test loss: 1.126  Test accuracy: 0.609\n",
      "Test batch: 91/157  Test loss: 1.125  Test accuracy: 0.609\n",
      "Test batch: 92/157  Test loss: 1.127  Test accuracy: 0.607\n",
      "Test batch: 93/157  Test loss: 1.127  Test accuracy: 0.607\n",
      "Test batch: 94/157  Test loss: 1.127  Test accuracy: 0.607\n",
      "Test batch: 95/157  Test loss: 1.127  Test accuracy: 0.607\n",
      "Test batch: 96/157  Test loss: 1.125  Test accuracy: 0.607\n",
      "Test batch: 97/157  Test loss: 1.127  Test accuracy: 0.606\n",
      "Test batch: 98/157  Test loss: 1.128  Test accuracy: 0.606\n",
      "Test batch: 99/157  Test loss: 1.128  Test accuracy: 0.607\n",
      "Test batch: 100/157  Test loss: 1.128  Test accuracy: 0.607\n",
      "Test batch: 101/157  Test loss: 1.129  Test accuracy: 0.607\n",
      "Test batch: 102/157  Test loss: 1.130  Test accuracy: 0.606\n",
      "Test batch: 103/157  Test loss: 1.130  Test accuracy: 0.607\n",
      "Test batch: 104/157  Test loss: 1.130  Test accuracy: 0.607\n",
      "Test batch: 105/157  Test loss: 1.131  Test accuracy: 0.607\n",
      "Test batch: 106/157  Test loss: 1.132  Test accuracy: 0.607\n",
      "Test batch: 107/157  Test loss: 1.130  Test accuracy: 0.608\n",
      "Test batch: 108/157  Test loss: 1.132  Test accuracy: 0.606\n",
      "Test batch: 109/157  Test loss: 1.135  Test accuracy: 0.605\n",
      "Test batch: 110/157  Test loss: 1.138  Test accuracy: 0.603\n",
      "Test batch: 111/157  Test loss: 1.137  Test accuracy: 0.603\n",
      "Test batch: 112/157  Test loss: 1.136  Test accuracy: 0.603\n",
      "Test batch: 113/157  Test loss: 1.136  Test accuracy: 0.603\n",
      "Test batch: 114/157  Test loss: 1.135  Test accuracy: 0.603\n",
      "Test batch: 115/157  Test loss: 1.131  Test accuracy: 0.604\n",
      "Test batch: 116/157  Test loss: 1.131  Test accuracy: 0.604\n",
      "Test batch: 117/157  Test loss: 1.129  Test accuracy: 0.605\n",
      "Test batch: 118/157  Test loss: 1.128  Test accuracy: 0.606\n",
      "Test batch: 119/157  Test loss: 1.129  Test accuracy: 0.605\n",
      "Test batch: 120/157  Test loss: 1.129  Test accuracy: 0.605\n",
      "Test batch: 121/157  Test loss: 1.128  Test accuracy: 0.606\n",
      "Test batch: 122/157  Test loss: 1.128  Test accuracy: 0.606\n",
      "Test batch: 123/157  Test loss: 1.128  Test accuracy: 0.605\n",
      "Test batch: 124/157  Test loss: 1.128  Test accuracy: 0.605\n",
      "Test batch: 125/157  Test loss: 1.128  Test accuracy: 0.605\n",
      "Test batch: 126/157  Test loss: 1.127  Test accuracy: 0.605\n",
      "Test batch: 127/157  Test loss: 1.128  Test accuracy: 0.605\n",
      "Test batch: 128/157  Test loss: 1.127  Test accuracy: 0.605\n",
      "Test batch: 129/157  Test loss: 1.127  Test accuracy: 0.605\n",
      "Test batch: 130/157  Test loss: 1.129  Test accuracy: 0.604\n",
      "Test batch: 131/157  Test loss: 1.128  Test accuracy: 0.604\n",
      "Test batch: 132/157  Test loss: 1.127  Test accuracy: 0.604\n",
      "Test batch: 133/157  Test loss: 1.127  Test accuracy: 0.604\n",
      "Test batch: 134/157  Test loss: 1.127  Test accuracy: 0.604\n",
      "Test batch: 135/157  Test loss: 1.127  Test accuracy: 0.605\n",
      "Test batch: 136/157  Test loss: 1.129  Test accuracy: 0.604\n",
      "Test batch: 137/157  Test loss: 1.129  Test accuracy: 0.604\n",
      "Test batch: 138/157  Test loss: 1.128  Test accuracy: 0.604\n",
      "Test batch: 139/157  Test loss: 1.128  Test accuracy: 0.604\n",
      "Test batch: 140/157  Test loss: 1.128  Test accuracy: 0.604\n",
      "Test batch: 141/157  Test loss: 1.129  Test accuracy: 0.604\n",
      "Test batch: 142/157  Test loss: 1.129  Test accuracy: 0.604\n",
      "Test batch: 143/157  Test loss: 1.129  Test accuracy: 0.604\n",
      "Test batch: 144/157  Test loss: 1.127  Test accuracy: 0.605\n",
      "Test batch: 145/157  Test loss: 1.126  Test accuracy: 0.605\n",
      "Test batch: 146/157  Test loss: 1.127  Test accuracy: 0.605\n",
      "Test batch: 147/157  Test loss: 1.128  Test accuracy: 0.605\n",
      "Test batch: 148/157  Test loss: 1.128  Test accuracy: 0.604\n",
      "Test batch: 149/157  Test loss: 1.128  Test accuracy: 0.605\n"
     ]
    },
    {
     "name": "stdout",
     "output_type": "stream",
     "text": [
      "Test batch: 150/157  Test loss: 1.127  Test accuracy: 0.605\n",
      "Test batch: 151/157  Test loss: 1.126  Test accuracy: 0.606\n",
      "Test batch: 152/157  Test loss: 1.127  Test accuracy: 0.606\n",
      "Test batch: 153/157  Test loss: 1.128  Test accuracy: 0.605\n",
      "Test batch: 154/157  Test loss: 1.128  Test accuracy: 0.604\n",
      "Test batch: 155/157  Test loss: 1.129  Test accuracy: 0.604\n",
      "Test batch: 156/157  Test loss: 1.129  Test accuracy: 0.604\n",
      "Test batch: 157/157  Test loss: 1.130  Test accuracy: 0.603\n"
     ]
    }
   ],
   "source": [
    "# TODO: Do validation on the test set\n",
    "test_loss = 0\n",
    "accuracy = 0\n",
    "testing_steps = 0\n",
    "\n",
    "# Use GPU if it's available\n",
    "device = torch.device(\"cuda\" if torch.cuda.is_available() else \"cpu\")\n",
    "\n",
    "criterion = nn.NLLLoss()\n",
    "model.eval()\n",
    "\n",
    "with torch.no_grad():\n",
    "    #perform validation loop on each batch in the validation loader\n",
    "    for images, labels in testloader:\n",
    "        testing_steps += 1\n",
    "        \n",
    "        #move image and label to device\n",
    "        images, labels = images.to(device), labels.to(device)\n",
    "        #change shape of images so compatible with input layer - non CNN only\n",
    "        # inputs = images.view(images.shape[0],-1)\n",
    "\n",
    "        logps = model(images)\n",
    "        loss = criterion(logps, labels) #find the loss for this batch\n",
    "        test_loss += loss.item() #sum losses for all batches\n",
    "\n",
    "        #calculate accuracy for each batch\n",
    "        ps = torch.exp(logps)\n",
    "        top_ps, top_class = ps.topk(1, dim = 1)\n",
    "        equality = top_class == labels.view(*top_class.shape)\n",
    "        accuracy += torch.mean(equality.type(torch.FloatTensor))\n",
    "        \n",
    "        print(f\"Test batch: {testing_steps}/{len(testloader)} \",\n",
    "              f\"Test loss: {test_loss/testing_steps:.3f} \", #divide by number of test batches to see average test loss\n",
    "              f\"Test accuracy: {accuracy/testing_steps:.3f}\") #divide by number of test batches to see average test accuracy\n"
   ]
  },
  {
   "cell_type": "markdown",
   "metadata": {},
   "source": [
    "## Saving your model\n",
    "Using `torch.save`, save your model for future loading."
   ]
  },
  {
   "cell_type": "code",
   "execution_count": 22,
   "metadata": {},
   "outputs": [
    {
     "name": "stdout",
     "output_type": "stream",
     "text": [
      "Our model: \n",
      "\n",
      " Net(\n",
      "  (conv1): Conv2d(3, 24, kernel_size=(3, 3), stride=(1, 1))\n",
      "  (pool): MaxPool2d(kernel_size=2, stride=2, padding=0, dilation=1, ceil_mode=False)\n",
      "  (conv2): Conv2d(24, 34, kernel_size=(3, 3), stride=(1, 1))\n",
      "  (fc1): Linear(in_features=1224, out_features=100, bias=True)\n",
      "  (fc2): Linear(in_features=100, out_features=80, bias=True)\n",
      "  (fc3): Linear(in_features=80, out_features=10, bias=True)\n",
      "  (dropout): Dropout(p=0.25, inplace=False)\n",
      ") \n",
      "\n",
      "The state dict keys: \n",
      "\n",
      " odict_keys(['conv1.weight', 'conv1.bias', 'conv2.weight', 'conv2.bias', 'fc1.weight', 'fc1.bias', 'fc2.weight', 'fc2.bias', 'fc3.weight', 'fc3.bias'])\n"
     ]
    }
   ],
   "source": [
    "#add the class to indices map\n",
    "model.class_to_idx = train_data.class_to_idx\n",
    "\n",
    "#check mapping has been added\n",
    "print(\"Our model: \\n\\n\", model, '\\n')\n",
    "print(\"The state dict keys: \\n\\n\", model.state_dict().keys())\n",
    "\n",
    "checkpoint = {'class_to_idx': model.class_to_idx,\n",
    "              'state_dict': model.state_dict(),\n",
    "              'optimizer_state_dict': optimizer.state_dict(),         \n",
    "             }\n",
    "\n",
    "torch.save(checkpoint, 'CIFARcheckpoint.pth')"
   ]
  },
  {
   "cell_type": "markdown",
   "metadata": {},
   "source": [
    "## Make a Recommendation\n",
    "\n",
    "Based on your evaluation, what is your recommendation on whether to build or buy? Explain your reasoning below."
   ]
  },
  {
   "cell_type": "markdown",
   "metadata": {},
   "source": [
    "I would recommend buying the outsourced model as the prototype model built here achievs an accuracy of around 60%."
   ]
  }
 ],
 "metadata": {
  "kernelspec": {
   "display_name": "Python 3 (ipykernel)",
   "language": "python",
   "name": "python3"
  },
  "language_info": {
   "codemirror_mode": {
    "name": "ipython",
    "version": 3
   },
   "file_extension": ".py",
   "mimetype": "text/x-python",
   "name": "python",
   "nbconvert_exporter": "python",
   "pygments_lexer": "ipython3",
   "version": "3.10.11"
  }
 },
 "nbformat": 4,
 "nbformat_minor": 4
}

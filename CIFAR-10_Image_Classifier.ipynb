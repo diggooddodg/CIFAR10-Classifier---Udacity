{
 "cells": [
  {
   "cell_type": "markdown",
   "metadata": {},
   "source": [
    "# Introduction\n",
    "\n",
    "In this project, you will build a neural network of your own design to evaluate the CIFAR-10 dataset.\n",
    "Our target accuracy is 70%, but any accuracy over 50% is a great start.\n",
    "Some of the benchmark results on CIFAR-10 include:\n",
    "\n",
    "78.9% Accuracy | [Deep Belief Networks; Krizhevsky, 2010](https://www.cs.toronto.edu/~kriz/conv-cifar10-aug2010.pdf)\n",
    "\n",
    "90.6% Accuracy | [Maxout Networks; Goodfellow et al., 2013](https://arxiv.org/pdf/1302.4389.pdf)\n",
    "\n",
    "96.0% Accuracy | [Wide Residual Networks; Zagoruyko et al., 2016](https://arxiv.org/pdf/1605.07146.pdf)\n",
    "\n",
    "99.0% Accuracy | [GPipe; Huang et al., 2018](https://arxiv.org/pdf/1811.06965.pdf)\n",
    "\n",
    "98.5% Accuracy | [Rethinking Recurrent Neural Networks and other Improvements for ImageClassification; Nguyen et al., 2020](https://arxiv.org/pdf/2007.15161.pdf)\n",
    "\n",
    "Research with this dataset is ongoing. Notably, many of these networks are quite large and quite expensive to train. \n",
    "\n",
    "## Imports"
   ]
  },
  {
   "cell_type": "code",
   "execution_count": 1,
   "metadata": {},
   "outputs": [],
   "source": [
    "## This cell contains the essential imports you will need – DO NOT CHANGE THE CONTENTS! ##\n",
    "import torch\n",
    "import torch.nn.functional as F\n",
    "from torch import nn, optim\n",
    "from torchvision import transforms, datasets\n",
    "import matplotlib.pyplot as plt\n",
    "import numpy as np\n",
    "from datetime import datetime\n",
    "import pytz\n",
    "import time"
   ]
  },
  {
   "cell_type": "markdown",
   "metadata": {},
   "source": [
    "## Load the Dataset\n",
    "\n",
    "Specify your transforms as a list first.\n",
    "The transforms module is already loaded as `transforms`.\n",
    "\n",
    "CIFAR-10 is fortunately included in the torchvision module.\n",
    "Then, you can create your dataset using the `CIFAR10` object from `torchvision.datasets` ([the documentation is available here](https://pytorch.org/docs/stable/torchvision/datasets.html#cifar)).\n",
    "Make sure to specify `download=True`! \n",
    "\n",
    "Once your dataset is created, you'll also need to define a `DataLoader` from the `torch.utils.data` module for both the train and the test set."
   ]
  },
  {
   "cell_type": "code",
   "execution_count": 2,
   "metadata": {},
   "outputs": [
    {
     "name": "stdout",
     "output_type": "stream",
     "text": [
      "Files already downloaded and verified\n",
      "Files already downloaded and verified\n",
      "Files already downloaded and verified\n"
     ]
    }
   ],
   "source": [
    "# Define transforms\n",
    "train_transforms = transforms.Compose([transforms.RandomRotation(30),\n",
    "                                       transforms.RandomHorizontalFlip(),\n",
    "                                       transforms.ToTensor(),\n",
    "                                       transforms.Normalize([0.5, 0.5, 0.5],\n",
    "                                                            [0.5, 0.5, 0.5])])\n",
    "\n",
    "validation_transforms = transforms.Compose([transforms.ToTensor(),\n",
    "                                      transforms.Normalize([0.5, 0.5, 0.5],\n",
    "                                                           [0.5, 0.5, 0.5])])\n",
    "\n",
    "#transform to be used to view images: \n",
    "#test_transform = transforms.Compose([transforms.ToTensor()])\n",
    "\n",
    "test_transforms = transforms.Compose([transforms.ToTensor(),\n",
    "                                     transforms.Normalize([0.5, 0.5, 0.5],\n",
    "                                                           [0.5, 0.5, 0.5])])\n",
    "\n",
    "\n",
    "# Create training set and define training dataloader\n",
    "train_data = datasets.CIFAR10(\"train_dir\", train = True, transform=train_transforms, download = True)\n",
    "trainloader = torch.utils.data.DataLoader(train_data, batch_size=64, shuffle=True)\n",
    "\n",
    "# Create validation set and define validation dataloader\n",
    "validation_data = datasets.CIFAR10(\"validation_dir\", train = False, transform=validation_transforms, download = True)\n",
    "validationloader = torch.utils.data.DataLoader(validation_data, batch_size=64)\n",
    "\n",
    "# Create test set and define test dataloader\n",
    "test_data = datasets.CIFAR10(\"test_dir\", train = False, transform=test_transforms, download = True)\n",
    "testloader = torch.utils.data.DataLoader(test_data, batch_size=64)\n",
    "\n",
    "# The 10 classes in the dataset\n",
    "classes = ('plane', 'car', 'bird', 'cat', 'deer', 'dog', 'frog', 'horse', 'ship', 'truck')"
   ]
  },
  {
   "cell_type": "code",
   "execution_count": 3,
   "metadata": {},
   "outputs": [
    {
     "data": {
      "text/plain": [
       "(torch.Size([64, 3, 32, 32]), torch.Size([64]))"
      ]
     },
     "execution_count": 3,
     "metadata": {},
     "output_type": "execute_result"
    }
   ],
   "source": [
    "# determine shape of images and labels\n",
    "dataiter=iter(trainloader)\n",
    "images,labels=next(dataiter)\n",
    "images.shape,labels.shape"
   ]
  },
  {
   "cell_type": "markdown",
   "metadata": {},
   "source": [
    "Image size is 3 colour channels times 32 by 32 pixels so: <br>\n",
    "a) input features for network need to be 3 * 32 * 32 = 3072, and <br>\n",
    "b) Need to flatten the images so has shape = (batch size, 3072)<br>\n",
    "<br>\n",
    "There are ten classes so there will be 10 output nodes therefore the output shape for each batch will be 64,10 i.e. a row for each input and a column for each output node. The loss function will compare outputs and labels therefore the labels shape must be the same????? "
   ]
  },
  {
   "cell_type": "code",
   "execution_count": 4,
   "metadata": {},
   "outputs": [
    {
     "data": {
      "text/plain": [
       "torch.Size([64, 3072])"
      ]
     },
     "execution_count": 4,
     "metadata": {},
     "output_type": "execute_result"
    }
   ],
   "source": [
    "# basic non-convolutional network only: create an inputs tensor by flattening the images tensor\n",
    "# - this will be applied to each dataset in the training and test code below\n",
    "inputs = images.view(images.shape[0],-1) #this should create features shape of 64, 3072\n",
    "inputs.shape"
   ]
  },
  {
   "cell_type": "code",
   "execution_count": 4,
   "metadata": {},
   "outputs": [
    {
     "data": {
      "text/plain": [
       "{'airplane': 0,\n",
       " 'automobile': 1,\n",
       " 'bird': 2,\n",
       " 'cat': 3,\n",
       " 'deer': 4,\n",
       " 'dog': 5,\n",
       " 'frog': 6,\n",
       " 'horse': 7,\n",
       " 'ship': 8,\n",
       " 'truck': 9}"
      ]
     },
     "execution_count": 4,
     "metadata": {},
     "output_type": "execute_result"
    }
   ],
   "source": [
    "#view the class to output index dictionary\n",
    "test_data.class_to_idx"
   ]
  },
  {
   "cell_type": "markdown",
   "metadata": {},
   "source": [
    "## Explore the Dataset\n",
    "Using matplotlib, numpy, and torch, explore the dimensions of your data.\n",
    "\n",
    "You can view images using the `show5` function defined below – it takes a data loader as an argument.\n",
    "Remember that normalized images will look really weird to you! You may want to try changing your transforms to view images.\n",
    "Typically using no transforms other than `toTensor()` works well for viewing – but not as well for training your network.\n",
    "If `show5` doesn't work, go back and check your code for creating your data loaders and your training/test sets."
   ]
  },
  {
   "cell_type": "code",
   "execution_count": 6,
   "metadata": {},
   "outputs": [],
   "source": [
    "def show5(img_loader):\n",
    "    dataiter = iter(img_loader)\n",
    "    \n",
    "    batch = next(dataiter)\n",
    "    labels = batch[1][0:5]\n",
    "    images = batch[0][0:5]\n",
    "    for i in range(5):\n",
    "        print(classes[labels[i]])\n",
    "    \n",
    "        image = images[i].numpy()\n",
    "        plt.imshow(image.T)\n",
    "        plt.show()"
   ]
  },
  {
   "cell_type": "code",
   "execution_count": 7,
   "metadata": {},
   "outputs": [
    {
     "name": "stderr",
     "output_type": "stream",
     "text": [
      "Clipping input data to the valid range for imshow with RGB data ([0..1] for floats or [0..255] for integers).\n"
     ]
    },
    {
     "name": "stdout",
     "output_type": "stream",
     "text": [
      "cat\n"
     ]
    },
    {
     "data": {
      "image/png": "[encoded data removed]",
      "text/plain": [
       "<Figure size 640x480 with 1 Axes>"
      ]
     },
     "metadata": {},
     "output_type": "display_data"
    },
    {
     "name": "stderr",
     "output_type": "stream",
     "text": [
      "Clipping input data to the valid range for imshow with RGB data ([0..1] for floats or [0..255] for integers).\n"
     ]
    },
    {
     "name": "stdout",
     "output_type": "stream",
     "text": [
      "ship\n"
     ]
    },
    {
     "data": {
      "image/png": "[encoded data removed]",
      "text/plain": [
       "<Figure size 640x480 with 1 Axes>"
      ]
     },
     "metadata": {},
     "output_type": "display_data"
    },
    {
     "name": "stderr",
     "output_type": "stream",
     "text": [
      "Clipping input data to the valid range for imshow with RGB data ([0..1] for floats or [0..255] for integers).\n"
     ]
    },
    {
     "name": "stdout",
     "output_type": "stream",
     "text": [
      "ship\n"
     ]
    },
    {
     "data": {
      "image/png": "[encoded data removed]",
      "text/plain": [
       "<Figure size 640x480 with 1 Axes>"
      ]
     },
     "metadata": {},
     "output_type": "display_data"
    },
    {
     "name": "stderr",
     "output_type": "stream",
     "text": [
      "Clipping input data to the valid range for imshow with RGB data ([0..1] for floats or [0..255] for integers).\n"
     ]
    },
    {
     "name": "stdout",
     "output_type": "stream",
     "text": [
      "plane\n"
     ]
    },
    {
     "data": {
      "image/png": "[encoded data removed]",
      "text/plain": [
       "<Figure size 640x480 with 1 Axes>"
      ]
     },
     "metadata": {},
     "output_type": "display_data"
    },
    {
     "name": "stderr",
     "output_type": "stream",
     "text": [
      "Clipping input data to the valid range for imshow with RGB data ([0..1] for floats or [0..255] for integers).\n"
     ]
    },
    {
     "name": "stdout",
     "output_type": "stream",
     "text": [
      "frog\n"
     ]
    },
    {
     "data": {
      "image/png": "[encoded data removed]",
      "text/plain": [
       "<Figure size 640x480 with 1 Axes>"
      ]
     },
     "metadata": {},
     "output_type": "display_data"
    }
   ],
   "source": [
    "# Explore data\n",
    "show5(testloader)"
   ]
  },
  {
   "cell_type": "markdown",
   "metadata": {},
   "source": [
    "## Build your Neural Network\n",
    "Using the layers in `torch.nn` (which has been imported as `nn`) and the `torch.nn.functional` module (imported as `F`), construct a neural network based on the parameters of the dataset. \n",
    "Feel free to construct a model of any architecture – feedforward, convolutional, or even something more advanced!"
   ]
  },
  {
   "cell_type": "code",
   "execution_count": 17,
   "metadata": {},
   "outputs": [],
   "source": [
    "class Network(nn.Module):\n",
    "    def __init__(self):\n",
    "        super().__init__()\n",
    "        # Using fc = fully connected so that the following weights and bias initialisation will work\n",
    "        self.fc1 = nn.Linear(3072, 1024)\n",
    "        # First hidden layer to second hidden layer linear transformation\n",
    "        self.fc2 = nn.Linear(1024, 256)\n",
    "        # Output layer, 10 units - one for each class\n",
    "        self.fc3 = nn.Linear(256, 10)\n",
    "        self.dropout = nn.Dropout(0.25)\n",
    "        \n",
    "    def forward(self, x):\n",
    "        # First hidden layer with relu activation\n",
    "        x = self.dropout(F.relu(self.fc1(x)))\n",
    "        # Second  hidden layer with relu activation\n",
    "        x = self.dropout(F.relu(self.fc2(x)))\n",
    "        # Output layer with softmax activation\n",
    "        x = F.softmax(self.fc3(x), dim=1)\n",
    "        \n",
    "        return x"
   ]
  },
  {
   "cell_type": "markdown",
   "metadata": {},
   "source": [
    "Above model validation accuracy did not rise above 16% so using a convolutional neural network as below. "
   ]
  },
  {
   "cell_type": "code",
   "execution_count": 10,
   "metadata": {},
   "outputs": [],
   "source": [
    "class Net(nn.Module):\n",
    "    def __init__(self):\n",
    "        super(Net, self).__init__()\n",
    "        self.conv1 = nn.Conv2d(3, 24, 3)\n",
    "        self.pool = nn.MaxPool2d(2, 2)\n",
    "        self.conv2 = nn.Conv2d(24, 34, 3)\n",
    "        self.fc1 = nn.Linear(34 * 6 * 6, 100)\n",
    "        self.fc2 = nn.Linear(100, 80)\n",
    "        self.fc3 = nn.Linear(80, 10)\n",
    "\n",
    "    def forward(self, x):\n",
    "        x = self.pool(F.relu(self.conv1(x)))\n",
    "        x = self.pool(F.relu(self.conv2(x)))\n",
    "        x = x.view(-1, 34 * 6 * 6)\n",
    "        x = F.relu(self.fc1(x))\n",
    "        x = F.relu(self.fc2(x))\n",
    "        x = F.dropout(x, training=self.training)\n",
    "        x = F.softmax(self.fc3(x), dim=1)\n",
    "        return x"
   ]
  },
  {
   "cell_type": "code",
   "execution_count": 11,
   "metadata": {},
   "outputs": [
    {
     "data": {
      "text/plain": [
       "Net(\n",
       "  (conv1): Conv2d(3, 24, kernel_size=(3, 3), stride=(1, 1))\n",
       "  (pool): MaxPool2d(kernel_size=2, stride=2, padding=0, dilation=1, ceil_mode=False)\n",
       "  (conv2): Conv2d(24, 34, kernel_size=(3, 3), stride=(1, 1))\n",
       "  (fc1): Linear(in_features=1224, out_features=100, bias=True)\n",
       "  (fc2): Linear(in_features=100, out_features=80, bias=True)\n",
       "  (fc3): Linear(in_features=80, out_features=10, bias=True)\n",
       ")"
      ]
     },
     "execution_count": 11,
     "metadata": {},
     "output_type": "execute_result"
    }
   ],
   "source": [
    "#instantiate the model\n",
    "model = Net()\n",
    "\n",
    "#view model to double check number input nodes \n",
    "model"
   ]
  },
  {
   "cell_type": "markdown",
   "metadata": {},
   "source": [
    "Specify a loss function and an optimizer, and instantiate the model.\n",
    "\n",
    "If you use a less common loss function, please note why you chose that loss function in a comment."
   ]
  },
  {
   "cell_type": "code",
   "execution_count": 12,
   "metadata": {},
   "outputs": [],
   "source": [
    "#define loss function\n",
    "criterion = nn.NLLLoss()\n",
    "\n",
    "# define optimiser\n",
    "optimizer = optim.Adam(model.parameters(), lr=0.003)"
   ]
  },
  {
   "cell_type": "markdown",
   "metadata": {},
   "source": [
    "## Running your Neural Network\n",
    "Use whatever method you like to train your neural network, and ensure you record the average loss at each epoch. \n",
    "Don't forget to use `torch.device()` and the `.to()` method for both your model and your data if you are using GPU!\n",
    "\n",
    "If you want to print your loss during each epoch, you can use the `enumerate` function and print the loss after a set number of batches. 250 batches works well for most people!"
   ]
  },
  {
   "cell_type": "code",
   "execution_count": 13,
   "metadata": {
    "scrolled": false
   },
   "outputs": [
    {
     "name": "stdout",
     "output_type": "stream",
     "text": [
      "Device = cuda  Time for this batch: 0.834 seconds   Epoch: 1/5   Batch: 5/782  Training Loss: -0.103  Validation Loss: -0.101  Validation Accuracy: 0.104\n",
      "Device = cuda  Time for this batch: 0.841 seconds   Epoch: 1/5   Batch: 10/782  Training Loss: -0.102  Validation Loss: -0.114  Validation Accuracy: 0.123\n",
      "Device = cuda  Time for this batch: 0.846 seconds   Epoch: 1/5   Batch: 15/782  Training Loss: -0.114  Validation Loss: -0.126  Validation Accuracy: 0.141\n",
      "Device = cuda  Time for this batch: 0.863 seconds   Epoch: 1/5   Batch: 20/782  Training Loss: -0.132  Validation Loss: -0.134  Validation Accuracy: 0.150\n",
      "Device = cuda  Time for this batch: 0.842 seconds   Epoch: 1/5   Batch: 25/782  Training Loss: -0.134  Validation Loss: -0.149  Validation Accuracy: 0.155\n",
      "Device = cuda  Time for this batch: 0.846 seconds   Epoch: 1/5   Batch: 30/782  Training Loss: -0.168  Validation Loss: -0.155  Validation Accuracy: 0.155\n",
      "Device = cuda  Time for this batch: 0.835 seconds   Epoch: 1/5   Batch: 35/782  Training Loss: -0.156  Validation Loss: -0.152  Validation Accuracy: 0.152\n",
      "Device = cuda  Time for this batch: 0.832 seconds   Epoch: 1/5   Batch: 40/782  Training Loss: -0.146  Validation Loss: -0.147  Validation Accuracy: 0.148\n",
      "Device = cuda  Time for this batch: 0.834 seconds   Epoch: 1/5   Batch: 45/782  Training Loss: -0.161  Validation Loss: -0.150  Validation Accuracy: 0.150\n",
      "Device = cuda  Time for this batch: 0.837 seconds   Epoch: 1/5   Batch: 50/782  Training Loss: -0.162  Validation Loss: -0.161  Validation Accuracy: 0.162\n",
      "Device = cuda  Time for this batch: 0.828 seconds   Epoch: 1/5   Batch: 55/782  Training Loss: -0.177  Validation Loss: -0.160  Validation Accuracy: 0.160\n",
      "Device = cuda  Time for this batch: 0.835 seconds   Epoch: 1/5   Batch: 60/782  Training Loss: -0.158  Validation Loss: -0.162  Validation Accuracy: 0.163\n",
      "Device = cuda  Time for this batch: 0.850 seconds   Epoch: 1/5   Batch: 65/782  Training Loss: -0.172  Validation Loss: -0.173  Validation Accuracy: 0.173\n",
      "Device = cuda  Time for this batch: 0.828 seconds   Epoch: 1/5   Batch: 70/782  Training Loss: -0.144  Validation Loss: -0.186  Validation Accuracy: 0.186\n",
      "Device = cuda  Time for this batch: 0.828 seconds   Epoch: 1/5   Batch: 75/782  Training Loss: -0.162  Validation Loss: -0.187  Validation Accuracy: 0.188\n",
      "Device = cuda  Time for this batch: 0.821 seconds   Epoch: 1/5   Batch: 80/782  Training Loss: -0.185  Validation Loss: -0.184  Validation Accuracy: 0.187\n",
      "Device = cuda  Time for this batch: 0.829 seconds   Epoch: 1/5   Batch: 85/782  Training Loss: -0.142  Validation Loss: -0.163  Validation Accuracy: 0.157\n",
      "Device = cuda  Time for this batch: 0.827 seconds   Epoch: 1/5   Batch: 90/782  Training Loss: -0.183  Validation Loss: -0.184  Validation Accuracy: 0.187\n",
      "Device = cuda  Time for this batch: 0.832 seconds   Epoch: 1/5   Batch: 95/782  Training Loss: -0.189  Validation Loss: -0.190  Validation Accuracy: 0.191\n",
      "Device = cuda  Time for this batch: 0.841 seconds   Epoch: 1/5   Batch: 100/782  Training Loss: -0.198  Validation Loss: -0.191  Validation Accuracy: 0.192\n",
      "Device = cuda  Time for this batch: 0.866 seconds   Epoch: 1/5   Batch: 105/782  Training Loss: -0.152  Validation Loss: -0.176  Validation Accuracy: 0.176\n",
      "Device = cuda  Time for this batch: 0.825 seconds   Epoch: 1/5   Batch: 110/782  Training Loss: -0.174  Validation Loss: -0.193  Validation Accuracy: 0.193\n",
      "Device = cuda  Time for this batch: 0.825 seconds   Epoch: 1/5   Batch: 115/782  Training Loss: -0.205  Validation Loss: -0.197  Validation Accuracy: 0.196\n",
      "Device = cuda  Time for this batch: 0.818 seconds   Epoch: 1/5   Batch: 120/782  Training Loss: -0.201  Validation Loss: -0.197  Validation Accuracy: 0.197\n",
      "Device = cuda  Time for this batch: 0.833 seconds   Epoch: 1/5   Batch: 125/782  Training Loss: -0.159  Validation Loss: -0.197  Validation Accuracy: 0.198\n",
      "Device = cuda  Time for this batch: 0.828 seconds   Epoch: 1/5   Batch: 130/782  Training Loss: -0.205  Validation Loss: -0.198  Validation Accuracy: 0.198\n",
      "Device = cuda  Time for this batch: 0.837 seconds   Epoch: 1/5   Batch: 135/782  Training Loss: -0.190  Validation Loss: -0.198  Validation Accuracy: 0.198\n",
      "Device = cuda  Time for this batch: 0.827 seconds   Epoch: 1/5   Batch: 140/782  Training Loss: -0.230  Validation Loss: -0.199  Validation Accuracy: 0.199\n",
      "Device = cuda  Time for this batch: 0.837 seconds   Epoch: 1/5   Batch: 145/782  Training Loss: -0.229  Validation Loss: -0.193  Validation Accuracy: 0.193\n",
      "Device = cuda  Time for this batch: 0.826 seconds   Epoch: 1/5   Batch: 150/782  Training Loss: -0.204  Validation Loss: -0.191  Validation Accuracy: 0.191\n",
      "Device = cuda  Time for this batch: 0.827 seconds   Epoch: 1/5   Batch: 155/782  Training Loss: -0.200  Validation Loss: -0.189  Validation Accuracy: 0.189\n",
      "Device = cuda  Time for this batch: 0.825 seconds   Epoch: 1/5   Batch: 160/782  Training Loss: -0.155  Validation Loss: -0.191  Validation Accuracy: 0.191\n",
      "Device = cuda  Time for this batch: 0.828 seconds   Epoch: 1/5   Batch: 165/782  Training Loss: -0.154  Validation Loss: -0.190  Validation Accuracy: 0.189\n",
      "Device = cuda  Time for this batch: 0.834 seconds   Epoch: 1/5   Batch: 170/782  Training Loss: -0.204  Validation Loss: -0.188  Validation Accuracy: 0.188\n",
      "Device = cuda  Time for this batch: 0.829 seconds   Epoch: 1/5   Batch: 175/782  Training Loss: -0.196  Validation Loss: -0.196  Validation Accuracy: 0.195\n",
      "Device = cuda  Time for this batch: 0.845 seconds   Epoch: 1/5   Batch: 180/782  Training Loss: -0.178  Validation Loss: -0.197  Validation Accuracy: 0.196\n",
      "Device = cuda  Time for this batch: 0.836 seconds   Epoch: 1/5   Batch: 185/782  Training Loss: -0.166  Validation Loss: -0.195  Validation Accuracy: 0.195\n",
      "Device = cuda  Time for this batch: 0.834 seconds   Epoch: 1/5   Batch: 190/782  Training Loss: -0.193  Validation Loss: -0.195  Validation Accuracy: 0.194\n",
      "Device = cuda  Time for this batch: 0.826 seconds   Epoch: 1/5   Batch: 195/782  Training Loss: -0.155  Validation Loss: -0.193  Validation Accuracy: 0.193\n",
      "Device = cuda  Time for this batch: 0.845 seconds   Epoch: 1/5   Batch: 200/782  Training Loss: -0.189  Validation Loss: -0.193  Validation Accuracy: 0.193\n",
      "Device = cuda  Time for this batch: 0.826 seconds   Epoch: 1/5   Batch: 205/782  Training Loss: -0.175  Validation Loss: -0.194  Validation Accuracy: 0.194\n",
      "Device = cuda  Time for this batch: 0.827 seconds   Epoch: 1/5   Batch: 210/782  Training Loss: -0.173  Validation Loss: -0.194  Validation Accuracy: 0.194\n",
      "Device = cuda  Time for this batch: 0.833 seconds   Epoch: 1/5   Batch: 215/782  Training Loss: -0.209  Validation Loss: -0.195  Validation Accuracy: 0.195\n",
      "Device = cuda  Time for this batch: 0.837 seconds   Epoch: 1/5   Batch: 220/782  Training Loss: -0.195  Validation Loss: -0.190  Validation Accuracy: 0.190\n",
      "Device = cuda  Time for this batch: 0.834 seconds   Epoch: 1/5   Batch: 225/782  Training Loss: -0.175  Validation Loss: -0.190  Validation Accuracy: 0.190\n",
      "Device = cuda  Time for this batch: 0.834 seconds   Epoch: 1/5   Batch: 230/782  Training Loss: -0.191  Validation Loss: -0.192  Validation Accuracy: 0.192\n",
      "Device = cuda  Time for this batch: 0.826 seconds   Epoch: 1/5   Batch: 235/782  Training Loss: -0.209  Validation Loss: -0.194  Validation Accuracy: 0.194\n",
      "Device = cuda  Time for this batch: 0.837 seconds   Epoch: 1/5   Batch: 240/782  Training Loss: -0.183  Validation Loss: -0.180  Validation Accuracy: 0.180\n",
      "Device = cuda  Time for this batch: 0.825 seconds   Epoch: 1/5   Batch: 245/782  Training Loss: -0.151  Validation Loss: -0.183  Validation Accuracy: 0.183\n",
      "Device = cuda  Time for this batch: 0.837 seconds   Epoch: 1/5   Batch: 250/782  Training Loss: -0.175  Validation Loss: -0.181  Validation Accuracy: 0.181\n",
      "Device = cuda  Time for this batch: 0.823 seconds   Epoch: 1/5   Batch: 255/782  Training Loss: -0.167  Validation Loss: -0.167  Validation Accuracy: 0.166\n",
      "Device = cuda  Time for this batch: 0.838 seconds   Epoch: 1/5   Batch: 260/782  Training Loss: -0.186  Validation Loss: -0.168  Validation Accuracy: 0.168\n",
      "Device = cuda  Time for this batch: 0.837 seconds   Epoch: 1/5   Batch: 265/782  Training Loss: -0.172  Validation Loss: -0.174  Validation Accuracy: 0.175\n"
     ]
    },
    {
     "name": "stdout",
     "output_type": "stream",
     "text": [
      "Device = cuda  Time for this batch: 0.830 seconds   Epoch: 1/5   Batch: 270/782  Training Loss: -0.192  Validation Loss: -0.188  Validation Accuracy: 0.189\n",
      "Device = cuda  Time for this batch: 0.825 seconds   Epoch: 1/5   Batch: 275/782  Training Loss: -0.173  Validation Loss: -0.174  Validation Accuracy: 0.174\n",
      "Device = cuda  Time for this batch: 0.831 seconds   Epoch: 1/5   Batch: 280/782  Training Loss: -0.159  Validation Loss: -0.164  Validation Accuracy: 0.164\n",
      "Device = cuda  Time for this batch: 0.827 seconds   Epoch: 1/5   Batch: 285/782  Training Loss: -0.147  Validation Loss: -0.157  Validation Accuracy: 0.157\n",
      "Device = cuda  Time for this batch: 0.836 seconds   Epoch: 1/5   Batch: 290/782  Training Loss: -0.173  Validation Loss: -0.154  Validation Accuracy: 0.154\n",
      "Device = cuda  Time for this batch: 0.830 seconds   Epoch: 1/5   Batch: 295/782  Training Loss: -0.158  Validation Loss: -0.159  Validation Accuracy: 0.159\n",
      "Device = cuda  Time for this batch: 0.827 seconds   Epoch: 1/5   Batch: 300/782  Training Loss: -0.124  Validation Loss: -0.166  Validation Accuracy: 0.166\n",
      "Device = cuda  Time for this batch: 0.835 seconds   Epoch: 1/5   Batch: 305/782  Training Loss: -0.150  Validation Loss: -0.175  Validation Accuracy: 0.176\n",
      "Device = cuda  Time for this batch: 0.847 seconds   Epoch: 1/5   Batch: 310/782  Training Loss: -0.169  Validation Loss: -0.183  Validation Accuracy: 0.182\n",
      "Device = cuda  Time for this batch: 0.825 seconds   Epoch: 1/5   Batch: 315/782  Training Loss: -0.142  Validation Loss: -0.187  Validation Accuracy: 0.187\n",
      "Device = cuda  Time for this batch: 0.827 seconds   Epoch: 1/5   Batch: 320/782  Training Loss: -0.184  Validation Loss: -0.180  Validation Accuracy: 0.179\n",
      "Device = cuda  Time for this batch: 0.830 seconds   Epoch: 1/5   Batch: 325/782  Training Loss: -0.179  Validation Loss: -0.182  Validation Accuracy: 0.182\n",
      "Device = cuda  Time for this batch: 0.855 seconds   Epoch: 1/5   Batch: 330/782  Training Loss: -0.154  Validation Loss: -0.189  Validation Accuracy: 0.189\n",
      "Device = cuda  Time for this batch: 0.854 seconds   Epoch: 1/5   Batch: 335/782  Training Loss: -0.130  Validation Loss: -0.190  Validation Accuracy: 0.190\n",
      "Device = cuda  Time for this batch: 0.830 seconds   Epoch: 1/5   Batch: 340/782  Training Loss: -0.182  Validation Loss: -0.192  Validation Accuracy: 0.193\n",
      "Device = cuda  Time for this batch: 0.840 seconds   Epoch: 1/5   Batch: 345/782  Training Loss: -0.206  Validation Loss: -0.190  Validation Accuracy: 0.190\n",
      "Device = cuda  Time for this batch: 0.835 seconds   Epoch: 1/5   Batch: 350/782  Training Loss: -0.194  Validation Loss: -0.184  Validation Accuracy: 0.184\n",
      "Device = cuda  Time for this batch: 0.855 seconds   Epoch: 1/5   Batch: 355/782  Training Loss: -0.198  Validation Loss: -0.177  Validation Accuracy: 0.177\n",
      "Device = cuda  Time for this batch: 0.849 seconds   Epoch: 1/5   Batch: 360/782  Training Loss: -0.176  Validation Loss: -0.171  Validation Accuracy: 0.171\n",
      "Device = cuda  Time for this batch: 0.848 seconds   Epoch: 1/5   Batch: 365/782  Training Loss: -0.212  Validation Loss: -0.167  Validation Accuracy: 0.167\n",
      "Device = cuda  Time for this batch: 0.852 seconds   Epoch: 1/5   Batch: 370/782  Training Loss: -0.172  Validation Loss: -0.162  Validation Accuracy: 0.162\n",
      "Device = cuda  Time for this batch: 0.863 seconds   Epoch: 1/5   Batch: 375/782  Training Loss: -0.130  Validation Loss: -0.164  Validation Accuracy: 0.164\n",
      "Device = cuda  Time for this batch: 0.867 seconds   Epoch: 1/5   Batch: 380/782  Training Loss: -0.148  Validation Loss: -0.171  Validation Accuracy: 0.170\n",
      "Device = cuda  Time for this batch: 0.860 seconds   Epoch: 1/5   Batch: 385/782  Training Loss: -0.156  Validation Loss: -0.174  Validation Accuracy: 0.174\n",
      "Device = cuda  Time for this batch: 0.835 seconds   Epoch: 1/5   Batch: 390/782  Training Loss: -0.175  Validation Loss: -0.175  Validation Accuracy: 0.175\n",
      "Device = cuda  Time for this batch: 0.809 seconds   Epoch: 1/5   Batch: 395/782  Training Loss: -0.149  Validation Loss: -0.174  Validation Accuracy: 0.174\n",
      "Device = cuda  Time for this batch: 0.826 seconds   Epoch: 1/5   Batch: 400/782  Training Loss: -0.173  Validation Loss: -0.175  Validation Accuracy: 0.175\n",
      "Device = cuda  Time for this batch: 0.817 seconds   Epoch: 1/5   Batch: 405/782  Training Loss: -0.137  Validation Loss: -0.176  Validation Accuracy: 0.176\n",
      "Device = cuda  Time for this batch: 0.821 seconds   Epoch: 1/5   Batch: 410/782  Training Loss: -0.178  Validation Loss: -0.173  Validation Accuracy: 0.173\n",
      "Device = cuda  Time for this batch: 0.846 seconds   Epoch: 1/5   Batch: 415/782  Training Loss: -0.153  Validation Loss: -0.170  Validation Accuracy: 0.170\n",
      "Device = cuda  Time for this batch: 0.833 seconds   Epoch: 1/5   Batch: 420/782  Training Loss: -0.150  Validation Loss: -0.168  Validation Accuracy: 0.167\n",
      "Device = cuda  Time for this batch: 0.827 seconds   Epoch: 1/5   Batch: 425/782  Training Loss: -0.174  Validation Loss: -0.168  Validation Accuracy: 0.168\n",
      "Device = cuda  Time for this batch: 0.826 seconds   Epoch: 1/5   Batch: 430/782  Training Loss: -0.184  Validation Loss: -0.168  Validation Accuracy: 0.168\n",
      "Device = cuda  Time for this batch: 0.830 seconds   Epoch: 1/5   Batch: 435/782  Training Loss: -0.172  Validation Loss: -0.170  Validation Accuracy: 0.170\n",
      "Device = cuda  Time for this batch: 0.846 seconds   Epoch: 1/5   Batch: 440/782  Training Loss: -0.139  Validation Loss: -0.172  Validation Accuracy: 0.172\n",
      "Device = cuda  Time for this batch: 0.826 seconds   Epoch: 1/5   Batch: 445/782  Training Loss: -0.156  Validation Loss: -0.171  Validation Accuracy: 0.171\n",
      "Device = cuda  Time for this batch: 0.842 seconds   Epoch: 1/5   Batch: 450/782  Training Loss: -0.179  Validation Loss: -0.167  Validation Accuracy: 0.167\n",
      "Device = cuda  Time for this batch: 0.825 seconds   Epoch: 1/5   Batch: 455/782  Training Loss: -0.172  Validation Loss: -0.163  Validation Accuracy: 0.163\n",
      "Device = cuda  Time for this batch: 0.826 seconds   Epoch: 1/5   Batch: 460/782  Training Loss: -0.194  Validation Loss: -0.152  Validation Accuracy: 0.152\n",
      "Device = cuda  Time for this batch: 0.846 seconds   Epoch: 1/5   Batch: 465/782  Training Loss: -0.147  Validation Loss: -0.165  Validation Accuracy: 0.165\n",
      "Device = cuda  Time for this batch: 0.827 seconds   Epoch: 1/5   Batch: 470/782  Training Loss: -0.213  Validation Loss: -0.174  Validation Accuracy: 0.174\n",
      "Device = cuda  Time for this batch: 0.841 seconds   Epoch: 1/5   Batch: 475/782  Training Loss: -0.188  Validation Loss: -0.179  Validation Accuracy: 0.179\n",
      "Device = cuda  Time for this batch: 0.838 seconds   Epoch: 1/5   Batch: 480/782  Training Loss: -0.216  Validation Loss: -0.178  Validation Accuracy: 0.178\n",
      "Device = cuda  Time for this batch: 0.840 seconds   Epoch: 1/5   Batch: 485/782  Training Loss: -0.158  Validation Loss: -0.177  Validation Accuracy: 0.177\n",
      "Device = cuda  Time for this batch: 0.870 seconds   Epoch: 1/5   Batch: 490/782  Training Loss: -0.152  Validation Loss: -0.164  Validation Accuracy: 0.164\n",
      "Device = cuda  Time for this batch: 0.846 seconds   Epoch: 1/5   Batch: 495/782  Training Loss: -0.141  Validation Loss: -0.151  Validation Accuracy: 0.151\n",
      "Device = cuda  Time for this batch: 0.849 seconds   Epoch: 1/5   Batch: 500/782  Training Loss: -0.174  Validation Loss: -0.147  Validation Accuracy: 0.147\n",
      "Device = cuda  Time for this batch: 0.843 seconds   Epoch: 1/5   Batch: 505/782  Training Loss: -0.147  Validation Loss: -0.151  Validation Accuracy: 0.151\n",
      "Device = cuda  Time for this batch: 0.837 seconds   Epoch: 1/5   Batch: 510/782  Training Loss: -0.134  Validation Loss: -0.153  Validation Accuracy: 0.153\n",
      "Device = cuda  Time for this batch: 0.836 seconds   Epoch: 1/5   Batch: 515/782  Training Loss: -0.141  Validation Loss: -0.155  Validation Accuracy: 0.155\n",
      "Device = cuda  Time for this batch: 0.841 seconds   Epoch: 1/5   Batch: 520/782  Training Loss: -0.139  Validation Loss: -0.158  Validation Accuracy: 0.158\n",
      "Device = cuda  Time for this batch: 0.826 seconds   Epoch: 1/5   Batch: 525/782  Training Loss: -0.175  Validation Loss: -0.160  Validation Accuracy: 0.160\n",
      "Device = cuda  Time for this batch: 0.824 seconds   Epoch: 1/5   Batch: 530/782  Training Loss: -0.143  Validation Loss: -0.158  Validation Accuracy: 0.158\n"
     ]
    },
    {
     "name": "stdout",
     "output_type": "stream",
     "text": [
      "Device = cuda  Time for this batch: 0.859 seconds   Epoch: 1/5   Batch: 535/782  Training Loss: -0.143  Validation Loss: -0.156  Validation Accuracy: 0.156\n",
      "Device = cuda  Time for this batch: 0.831 seconds   Epoch: 1/5   Batch: 540/782  Training Loss: -0.134  Validation Loss: -0.154  Validation Accuracy: 0.154\n",
      "Device = cuda  Time for this batch: 0.838 seconds   Epoch: 1/5   Batch: 545/782  Training Loss: -0.168  Validation Loss: -0.157  Validation Accuracy: 0.157\n",
      "Device = cuda  Time for this batch: 0.830 seconds   Epoch: 1/5   Batch: 550/782  Training Loss: -0.195  Validation Loss: -0.156  Validation Accuracy: 0.156\n",
      "Device = cuda  Time for this batch: 0.835 seconds   Epoch: 1/5   Batch: 555/782  Training Loss: -0.132  Validation Loss: -0.156  Validation Accuracy: 0.156\n",
      "Device = cuda  Time for this batch: 0.857 seconds   Epoch: 1/5   Batch: 560/782  Training Loss: -0.131  Validation Loss: -0.159  Validation Accuracy: 0.159\n",
      "Device = cuda  Time for this batch: 0.857 seconds   Epoch: 1/5   Batch: 565/782  Training Loss: -0.136  Validation Loss: -0.160  Validation Accuracy: 0.160\n",
      "Device = cuda  Time for this batch: 0.837 seconds   Epoch: 1/5   Batch: 570/782  Training Loss: -0.184  Validation Loss: -0.163  Validation Accuracy: 0.163\n",
      "Device = cuda  Time for this batch: 0.861 seconds   Epoch: 1/5   Batch: 575/782  Training Loss: -0.156  Validation Loss: -0.167  Validation Accuracy: 0.167\n",
      "Device = cuda  Time for this batch: 0.863 seconds   Epoch: 1/5   Batch: 580/782  Training Loss: -0.151  Validation Loss: -0.164  Validation Accuracy: 0.164\n",
      "Device = cuda  Time for this batch: 0.852 seconds   Epoch: 1/5   Batch: 585/782  Training Loss: -0.157  Validation Loss: -0.163  Validation Accuracy: 0.163\n",
      "Device = cuda  Time for this batch: 0.851 seconds   Epoch: 1/5   Batch: 590/782  Training Loss: -0.129  Validation Loss: -0.165  Validation Accuracy: 0.165\n",
      "Device = cuda  Time for this batch: 0.867 seconds   Epoch: 1/5   Batch: 595/782  Training Loss: -0.146  Validation Loss: -0.163  Validation Accuracy: 0.163\n",
      "Device = cuda  Time for this batch: 0.880 seconds   Epoch: 1/5   Batch: 600/782  Training Loss: -0.166  Validation Loss: -0.162  Validation Accuracy: 0.162\n",
      "Device = cuda  Time for this batch: 0.903 seconds   Epoch: 1/5   Batch: 605/782  Training Loss: -0.203  Validation Loss: -0.162  Validation Accuracy: 0.162\n",
      "Device = cuda  Time for this batch: 0.914 seconds   Epoch: 1/5   Batch: 610/782  Training Loss: -0.131  Validation Loss: -0.164  Validation Accuracy: 0.163\n",
      "Device = cuda  Time for this batch: 0.902 seconds   Epoch: 1/5   Batch: 615/782  Training Loss: -0.191  Validation Loss: -0.164  Validation Accuracy: 0.164\n",
      "Device = cuda  Time for this batch: 0.908 seconds   Epoch: 1/5   Batch: 620/782  Training Loss: -0.141  Validation Loss: -0.165  Validation Accuracy: 0.165\n",
      "Device = cuda  Time for this batch: 0.887 seconds   Epoch: 1/5   Batch: 625/782  Training Loss: -0.150  Validation Loss: -0.165  Validation Accuracy: 0.165\n",
      "Device = cuda  Time for this batch: 0.916 seconds   Epoch: 1/5   Batch: 630/782  Training Loss: -0.141  Validation Loss: -0.164  Validation Accuracy: 0.164\n",
      "Device = cuda  Time for this batch: 0.896 seconds   Epoch: 1/5   Batch: 635/782  Training Loss: -0.178  Validation Loss: -0.164  Validation Accuracy: 0.165\n",
      "Device = cuda  Time for this batch: 0.929 seconds   Epoch: 1/5   Batch: 640/782  Training Loss: -0.148  Validation Loss: -0.164  Validation Accuracy: 0.164\n",
      "Device = cuda  Time for this batch: 0.944 seconds   Epoch: 1/5   Batch: 645/782  Training Loss: -0.147  Validation Loss: -0.161  Validation Accuracy: 0.160\n",
      "Device = cuda  Time for this batch: 0.939 seconds   Epoch: 1/5   Batch: 650/782  Training Loss: -0.125  Validation Loss: -0.150  Validation Accuracy: 0.150\n",
      "Device = cuda  Time for this batch: 0.936 seconds   Epoch: 1/5   Batch: 655/782  Training Loss: -0.106  Validation Loss: -0.100  Validation Accuracy: 0.100\n",
      "Device = cuda  Time for this batch: 0.961 seconds   Epoch: 1/5   Batch: 660/782  Training Loss: -0.141  Validation Loss: -0.100  Validation Accuracy: 0.100\n",
      "Device = cuda  Time for this batch: 0.963 seconds   Epoch: 1/5   Batch: 665/782  Training Loss: -0.106  Validation Loss: -0.100  Validation Accuracy: 0.100\n",
      "Device = cuda  Time for this batch: 0.969 seconds   Epoch: 1/5   Batch: 670/782  Training Loss: -0.119  Validation Loss: -0.133  Validation Accuracy: 0.133\n",
      "Device = cuda  Time for this batch: 0.941 seconds   Epoch: 1/5   Batch: 675/782  Training Loss: -0.138  Validation Loss: -0.100  Validation Accuracy: 0.100\n",
      "Device = cuda  Time for this batch: 0.934 seconds   Epoch: 1/5   Batch: 680/782  Training Loss: -0.112  Validation Loss: -0.100  Validation Accuracy: 0.100\n",
      "Device = cuda  Time for this batch: 0.917 seconds   Epoch: 1/5   Batch: 685/782  Training Loss: -0.147  Validation Loss: -0.100  Validation Accuracy: 0.100\n",
      "Device = cuda  Time for this batch: 0.921 seconds   Epoch: 1/5   Batch: 690/782  Training Loss: -0.114  Validation Loss: -0.100  Validation Accuracy: 0.100\n",
      "Device = cuda  Time for this batch: 0.908 seconds   Epoch: 1/5   Batch: 695/782  Training Loss: -0.137  Validation Loss: -0.100  Validation Accuracy: 0.100\n",
      "Device = cuda  Time for this batch: 0.908 seconds   Epoch: 1/5   Batch: 700/782  Training Loss: -0.115  Validation Loss: -0.103  Validation Accuracy: 0.103\n",
      "Device = cuda  Time for this batch: 0.937 seconds   Epoch: 1/5   Batch: 705/782  Training Loss: -0.097  Validation Loss: -0.107  Validation Accuracy: 0.107\n",
      "Device = cuda  Time for this batch: 0.886 seconds   Epoch: 1/5   Batch: 710/782  Training Loss: -0.117  Validation Loss: -0.111  Validation Accuracy: 0.111\n",
      "Device = cuda  Time for this batch: 0.903 seconds   Epoch: 1/5   Batch: 715/782  Training Loss: -0.125  Validation Loss: -0.113  Validation Accuracy: 0.113\n",
      "Device = cuda  Time for this batch: 0.891 seconds   Epoch: 1/5   Batch: 720/782  Training Loss: -0.091  Validation Loss: -0.118  Validation Accuracy: 0.118\n",
      "Device = cuda  Time for this batch: 0.909 seconds   Epoch: 1/5   Batch: 725/782  Training Loss: -0.112  Validation Loss: -0.117  Validation Accuracy: 0.117\n",
      "Device = cuda  Time for this batch: 0.902 seconds   Epoch: 1/5   Batch: 730/782  Training Loss: -0.100  Validation Loss: -0.112  Validation Accuracy: 0.112\n",
      "Device = cuda  Time for this batch: 0.896 seconds   Epoch: 1/5   Batch: 735/782  Training Loss: -0.116  Validation Loss: -0.099  Validation Accuracy: 0.099\n",
      "Device = cuda  Time for this batch: 0.886 seconds   Epoch: 1/5   Batch: 740/782  Training Loss: -0.126  Validation Loss: -0.099  Validation Accuracy: 0.099\n",
      "Device = cuda  Time for this batch: 0.916 seconds   Epoch: 1/5   Batch: 745/782  Training Loss: -0.081  Validation Loss: -0.102  Validation Accuracy: 0.102\n",
      "Device = cuda  Time for this batch: 0.905 seconds   Epoch: 1/5   Batch: 750/782  Training Loss: -0.129  Validation Loss: -0.103  Validation Accuracy: 0.103\n",
      "Device = cuda  Time for this batch: 0.892 seconds   Epoch: 1/5   Batch: 755/782  Training Loss: -0.114  Validation Loss: -0.104  Validation Accuracy: 0.105\n",
      "Device = cuda  Time for this batch: 0.884 seconds   Epoch: 1/5   Batch: 760/782  Training Loss: -0.141  Validation Loss: -0.169  Validation Accuracy: 0.169\n"
     ]
    },
    {
     "ename": "KeyboardInterrupt",
     "evalue": "",
     "output_type": "error",
     "traceback": [
      "\u001b[0;31m---------------------------------------------------------------------------\u001b[0m",
      "\u001b[0;31mKeyboardInterrupt\u001b[0m                         Traceback (most recent call last)",
      "Cell \u001b[0;32mIn[13], line 50\u001b[0m\n\u001b[1;32m     47\u001b[0m \u001b[38;5;66;03m#disable autograd for validation - gradients do not need to be calculated\u001b[39;00m\n\u001b[1;32m     48\u001b[0m \u001b[38;5;28;01mwith\u001b[39;00m torch\u001b[38;5;241m.\u001b[39mno_grad():\n\u001b[1;32m     49\u001b[0m     \u001b[38;5;66;03m#perform validation loop on each batch in the validation loader\u001b[39;00m\n\u001b[0;32m---> 50\u001b[0m     \u001b[38;5;28;01mfor\u001b[39;00m images, labels \u001b[38;5;129;01min\u001b[39;00m validationloader:\n\u001b[1;32m     51\u001b[0m \n\u001b[1;32m     52\u001b[0m         \u001b[38;5;66;03m#move image and label to device\u001b[39;00m\n\u001b[1;32m     53\u001b[0m         images, labels \u001b[38;5;241m=\u001b[39m images\u001b[38;5;241m.\u001b[39mto(device), labels\u001b[38;5;241m.\u001b[39mto(device)\n\u001b[1;32m     55\u001b[0m         \u001b[38;5;66;03m#change cshape of images so compatible with input layer (basic neural network only)\u001b[39;00m\n\u001b[1;32m     56\u001b[0m         \u001b[38;5;66;03m#inputs = images.view(images.shape[0],-1)\u001b[39;00m\n",
      "File \u001b[0;32m/opt/conda/lib/python3.10/site-packages/torch/utils/data/dataloader.py:633\u001b[0m, in \u001b[0;36m_BaseDataLoaderIter.__next__\u001b[0;34m(self)\u001b[0m\n\u001b[1;32m    630\u001b[0m \u001b[38;5;28;01mif\u001b[39;00m \u001b[38;5;28mself\u001b[39m\u001b[38;5;241m.\u001b[39m_sampler_iter \u001b[38;5;129;01mis\u001b[39;00m \u001b[38;5;28;01mNone\u001b[39;00m:\n\u001b[1;32m    631\u001b[0m     \u001b[38;5;66;03m# TODO(https://github.com/pytorch/pytorch/issues/76750)\u001b[39;00m\n\u001b[1;32m    632\u001b[0m     \u001b[38;5;28mself\u001b[39m\u001b[38;5;241m.\u001b[39m_reset()  \u001b[38;5;66;03m# type: ignore[call-arg]\u001b[39;00m\n\u001b[0;32m--> 633\u001b[0m data \u001b[38;5;241m=\u001b[39m \u001b[38;5;28;43mself\u001b[39;49m\u001b[38;5;241;43m.\u001b[39;49m\u001b[43m_next_data\u001b[49m\u001b[43m(\u001b[49m\u001b[43m)\u001b[49m\n\u001b[1;32m    634\u001b[0m \u001b[38;5;28mself\u001b[39m\u001b[38;5;241m.\u001b[39m_num_yielded \u001b[38;5;241m+\u001b[39m\u001b[38;5;241m=\u001b[39m \u001b[38;5;241m1\u001b[39m\n\u001b[1;32m    635\u001b[0m \u001b[38;5;28;01mif\u001b[39;00m \u001b[38;5;28mself\u001b[39m\u001b[38;5;241m.\u001b[39m_dataset_kind \u001b[38;5;241m==\u001b[39m _DatasetKind\u001b[38;5;241m.\u001b[39mIterable \u001b[38;5;129;01mand\u001b[39;00m \\\n\u001b[1;32m    636\u001b[0m         \u001b[38;5;28mself\u001b[39m\u001b[38;5;241m.\u001b[39m_IterableDataset_len_called \u001b[38;5;129;01mis\u001b[39;00m \u001b[38;5;129;01mnot\u001b[39;00m \u001b[38;5;28;01mNone\u001b[39;00m \u001b[38;5;129;01mand\u001b[39;00m \\\n\u001b[1;32m    637\u001b[0m         \u001b[38;5;28mself\u001b[39m\u001b[38;5;241m.\u001b[39m_num_yielded \u001b[38;5;241m>\u001b[39m \u001b[38;5;28mself\u001b[39m\u001b[38;5;241m.\u001b[39m_IterableDataset_len_called:\n",
      "File \u001b[0;32m/opt/conda/lib/python3.10/site-packages/torch/utils/data/dataloader.py:677\u001b[0m, in \u001b[0;36m_SingleProcessDataLoaderIter._next_data\u001b[0;34m(self)\u001b[0m\n\u001b[1;32m    675\u001b[0m \u001b[38;5;28;01mdef\u001b[39;00m \u001b[38;5;21m_next_data\u001b[39m(\u001b[38;5;28mself\u001b[39m):\n\u001b[1;32m    676\u001b[0m     index \u001b[38;5;241m=\u001b[39m \u001b[38;5;28mself\u001b[39m\u001b[38;5;241m.\u001b[39m_next_index()  \u001b[38;5;66;03m# may raise StopIteration\u001b[39;00m\n\u001b[0;32m--> 677\u001b[0m     data \u001b[38;5;241m=\u001b[39m \u001b[38;5;28;43mself\u001b[39;49m\u001b[38;5;241;43m.\u001b[39;49m\u001b[43m_dataset_fetcher\u001b[49m\u001b[38;5;241;43m.\u001b[39;49m\u001b[43mfetch\u001b[49m\u001b[43m(\u001b[49m\u001b[43mindex\u001b[49m\u001b[43m)\u001b[49m  \u001b[38;5;66;03m# may raise StopIteration\u001b[39;00m\n\u001b[1;32m    678\u001b[0m     \u001b[38;5;28;01mif\u001b[39;00m \u001b[38;5;28mself\u001b[39m\u001b[38;5;241m.\u001b[39m_pin_memory:\n\u001b[1;32m    679\u001b[0m         data \u001b[38;5;241m=\u001b[39m _utils\u001b[38;5;241m.\u001b[39mpin_memory\u001b[38;5;241m.\u001b[39mpin_memory(data, \u001b[38;5;28mself\u001b[39m\u001b[38;5;241m.\u001b[39m_pin_memory_device)\n",
      "File \u001b[0;32m/opt/conda/lib/python3.10/site-packages/torch/utils/data/_utils/fetch.py:51\u001b[0m, in \u001b[0;36m_MapDatasetFetcher.fetch\u001b[0;34m(self, possibly_batched_index)\u001b[0m\n\u001b[1;32m     49\u001b[0m         data \u001b[38;5;241m=\u001b[39m \u001b[38;5;28mself\u001b[39m\u001b[38;5;241m.\u001b[39mdataset\u001b[38;5;241m.\u001b[39m__getitems__(possibly_batched_index)\n\u001b[1;32m     50\u001b[0m     \u001b[38;5;28;01melse\u001b[39;00m:\n\u001b[0;32m---> 51\u001b[0m         data \u001b[38;5;241m=\u001b[39m [\u001b[38;5;28mself\u001b[39m\u001b[38;5;241m.\u001b[39mdataset[idx] \u001b[38;5;28;01mfor\u001b[39;00m idx \u001b[38;5;129;01min\u001b[39;00m possibly_batched_index]\n\u001b[1;32m     52\u001b[0m \u001b[38;5;28;01melse\u001b[39;00m:\n\u001b[1;32m     53\u001b[0m     data \u001b[38;5;241m=\u001b[39m \u001b[38;5;28mself\u001b[39m\u001b[38;5;241m.\u001b[39mdataset[possibly_batched_index]\n",
      "File \u001b[0;32m/opt/conda/lib/python3.10/site-packages/torch/utils/data/_utils/fetch.py:51\u001b[0m, in \u001b[0;36m<listcomp>\u001b[0;34m(.0)\u001b[0m\n\u001b[1;32m     49\u001b[0m         data \u001b[38;5;241m=\u001b[39m \u001b[38;5;28mself\u001b[39m\u001b[38;5;241m.\u001b[39mdataset\u001b[38;5;241m.\u001b[39m__getitems__(possibly_batched_index)\n\u001b[1;32m     50\u001b[0m     \u001b[38;5;28;01melse\u001b[39;00m:\n\u001b[0;32m---> 51\u001b[0m         data \u001b[38;5;241m=\u001b[39m [\u001b[38;5;28;43mself\u001b[39;49m\u001b[38;5;241;43m.\u001b[39;49m\u001b[43mdataset\u001b[49m\u001b[43m[\u001b[49m\u001b[43midx\u001b[49m\u001b[43m]\u001b[49m \u001b[38;5;28;01mfor\u001b[39;00m idx \u001b[38;5;129;01min\u001b[39;00m possibly_batched_index]\n\u001b[1;32m     52\u001b[0m \u001b[38;5;28;01melse\u001b[39;00m:\n\u001b[1;32m     53\u001b[0m     data \u001b[38;5;241m=\u001b[39m \u001b[38;5;28mself\u001b[39m\u001b[38;5;241m.\u001b[39mdataset[possibly_batched_index]\n",
      "File \u001b[0;32m/opt/conda/lib/python3.10/site-packages/torchvision/datasets/cifar.py:115\u001b[0m, in \u001b[0;36mCIFAR10.__getitem__\u001b[0;34m(self, index)\u001b[0m\n\u001b[1;32m    111\u001b[0m img, target \u001b[38;5;241m=\u001b[39m \u001b[38;5;28mself\u001b[39m\u001b[38;5;241m.\u001b[39mdata[index], \u001b[38;5;28mself\u001b[39m\u001b[38;5;241m.\u001b[39mtargets[index]\n\u001b[1;32m    113\u001b[0m \u001b[38;5;66;03m# doing this so that it is consistent with all other datasets\u001b[39;00m\n\u001b[1;32m    114\u001b[0m \u001b[38;5;66;03m# to return a PIL Image\u001b[39;00m\n\u001b[0;32m--> 115\u001b[0m img \u001b[38;5;241m=\u001b[39m \u001b[43mImage\u001b[49m\u001b[38;5;241;43m.\u001b[39;49m\u001b[43mfromarray\u001b[49m\u001b[43m(\u001b[49m\u001b[43mimg\u001b[49m\u001b[43m)\u001b[49m\n\u001b[1;32m    117\u001b[0m \u001b[38;5;28;01mif\u001b[39;00m \u001b[38;5;28mself\u001b[39m\u001b[38;5;241m.\u001b[39mtransform \u001b[38;5;129;01mis\u001b[39;00m \u001b[38;5;129;01mnot\u001b[39;00m \u001b[38;5;28;01mNone\u001b[39;00m:\n\u001b[1;32m    118\u001b[0m     img \u001b[38;5;241m=\u001b[39m \u001b[38;5;28mself\u001b[39m\u001b[38;5;241m.\u001b[39mtransform(img)\n",
      "File \u001b[0;32m/opt/conda/lib/python3.10/site-packages/PIL/Image.py:3103\u001b[0m, in \u001b[0;36mfromarray\u001b[0;34m(obj, mode)\u001b[0m\n\u001b[1;32m   3100\u001b[0m     \u001b[38;5;28;01melse\u001b[39;00m:\n\u001b[1;32m   3101\u001b[0m         obj \u001b[38;5;241m=\u001b[39m obj\u001b[38;5;241m.\u001b[39mtostring()\n\u001b[0;32m-> 3103\u001b[0m \u001b[38;5;28;01mreturn\u001b[39;00m \u001b[43mfrombuffer\u001b[49m\u001b[43m(\u001b[49m\u001b[43mmode\u001b[49m\u001b[43m,\u001b[49m\u001b[43m \u001b[49m\u001b[43msize\u001b[49m\u001b[43m,\u001b[49m\u001b[43m \u001b[49m\u001b[43mobj\u001b[49m\u001b[43m,\u001b[49m\u001b[43m \u001b[49m\u001b[38;5;124;43m\"\u001b[39;49m\u001b[38;5;124;43mraw\u001b[39;49m\u001b[38;5;124;43m\"\u001b[39;49m\u001b[43m,\u001b[49m\u001b[43m \u001b[49m\u001b[43mrawmode\u001b[49m\u001b[43m,\u001b[49m\u001b[43m \u001b[49m\u001b[38;5;241;43m0\u001b[39;49m\u001b[43m,\u001b[49m\u001b[43m \u001b[49m\u001b[38;5;241;43m1\u001b[39;49m\u001b[43m)\u001b[49m\n",
      "File \u001b[0;32m/opt/conda/lib/python3.10/site-packages/PIL/Image.py:3027\u001b[0m, in \u001b[0;36mfrombuffer\u001b[0;34m(mode, size, data, decoder_name, *args)\u001b[0m\n\u001b[1;32m   3024\u001b[0m         im\u001b[38;5;241m.\u001b[39mreadonly \u001b[38;5;241m=\u001b[39m \u001b[38;5;241m1\u001b[39m\n\u001b[1;32m   3025\u001b[0m         \u001b[38;5;28;01mreturn\u001b[39;00m im\n\u001b[0;32m-> 3027\u001b[0m \u001b[38;5;28;01mreturn\u001b[39;00m \u001b[43mfrombytes\u001b[49m\u001b[43m(\u001b[49m\u001b[43mmode\u001b[49m\u001b[43m,\u001b[49m\u001b[43m \u001b[49m\u001b[43msize\u001b[49m\u001b[43m,\u001b[49m\u001b[43m \u001b[49m\u001b[43mdata\u001b[49m\u001b[43m,\u001b[49m\u001b[43m \u001b[49m\u001b[43mdecoder_name\u001b[49m\u001b[43m,\u001b[49m\u001b[43m \u001b[49m\u001b[43margs\u001b[49m\u001b[43m)\u001b[49m\n",
      "File \u001b[0;32m/opt/conda/lib/python3.10/site-packages/PIL/Image.py:2969\u001b[0m, in \u001b[0;36mfrombytes\u001b[0;34m(mode, size, data, decoder_name, *args)\u001b[0m\n\u001b[1;32m   2966\u001b[0m     args \u001b[38;5;241m=\u001b[39m mode\n\u001b[1;32m   2968\u001b[0m im \u001b[38;5;241m=\u001b[39m new(mode, size)\n\u001b[0;32m-> 2969\u001b[0m \u001b[43mim\u001b[49m\u001b[38;5;241;43m.\u001b[39;49m\u001b[43mfrombytes\u001b[49m\u001b[43m(\u001b[49m\u001b[43mdata\u001b[49m\u001b[43m,\u001b[49m\u001b[43m \u001b[49m\u001b[43mdecoder_name\u001b[49m\u001b[43m,\u001b[49m\u001b[43m \u001b[49m\u001b[43margs\u001b[49m\u001b[43m)\u001b[49m\n\u001b[1;32m   2970\u001b[0m \u001b[38;5;28;01mreturn\u001b[39;00m im\n",
      "File \u001b[0;32m/opt/conda/lib/python3.10/site-packages/PIL/Image.py:807\u001b[0m, in \u001b[0;36mImage.frombytes\u001b[0;34m(self, data, decoder_name, *args)\u001b[0m\n\u001b[1;32m    796\u001b[0m     data \u001b[38;5;241m=\u001b[39m \u001b[38;5;28mself\u001b[39m\u001b[38;5;241m.\u001b[39mtobytes(\u001b[38;5;124m\"\u001b[39m\u001b[38;5;124mxbm\u001b[39m\u001b[38;5;124m\"\u001b[39m)\n\u001b[1;32m    797\u001b[0m     \u001b[38;5;28;01mreturn\u001b[39;00m \u001b[38;5;124mb\u001b[39m\u001b[38;5;124m\"\u001b[39m\u001b[38;5;124m\"\u001b[39m\u001b[38;5;241m.\u001b[39mjoin(\n\u001b[1;32m    798\u001b[0m         [\n\u001b[1;32m    799\u001b[0m             \u001b[38;5;124mf\u001b[39m\u001b[38;5;124m\"\u001b[39m\u001b[38;5;124m#define \u001b[39m\u001b[38;5;132;01m{\u001b[39;00mname\u001b[38;5;132;01m}\u001b[39;00m\u001b[38;5;124m_width \u001b[39m\u001b[38;5;132;01m{\u001b[39;00m\u001b[38;5;28mself\u001b[39m\u001b[38;5;241m.\u001b[39msize[\u001b[38;5;241m0\u001b[39m]\u001b[38;5;132;01m}\u001b[39;00m\u001b[38;5;130;01m\\n\u001b[39;00m\u001b[38;5;124m\"\u001b[39m\u001b[38;5;241m.\u001b[39mencode(\u001b[38;5;124m\"\u001b[39m\u001b[38;5;124mascii\u001b[39m\u001b[38;5;124m\"\u001b[39m),\n\u001b[0;32m   (...)\u001b[0m\n\u001b[1;32m    804\u001b[0m         ]\n\u001b[1;32m    805\u001b[0m     )\n\u001b[0;32m--> 807\u001b[0m \u001b[38;5;28;01mdef\u001b[39;00m \u001b[38;5;21mfrombytes\u001b[39m(\u001b[38;5;28mself\u001b[39m, data, decoder_name\u001b[38;5;241m=\u001b[39m\u001b[38;5;124m\"\u001b[39m\u001b[38;5;124mraw\u001b[39m\u001b[38;5;124m\"\u001b[39m, \u001b[38;5;241m*\u001b[39margs):\n\u001b[1;32m    808\u001b[0m \u001b[38;5;250m    \u001b[39m\u001b[38;5;124;03m\"\"\"\u001b[39;00m\n\u001b[1;32m    809\u001b[0m \u001b[38;5;124;03m    Loads this image with pixel data from a bytes object.\u001b[39;00m\n\u001b[1;32m    810\u001b[0m \n\u001b[1;32m    811\u001b[0m \u001b[38;5;124;03m    This method is similar to the :py:func:`~PIL.Image.frombytes` function,\u001b[39;00m\n\u001b[1;32m    812\u001b[0m \u001b[38;5;124;03m    but loads data into this image instead of creating a new image object.\u001b[39;00m\n\u001b[1;32m    813\u001b[0m \u001b[38;5;124;03m    \"\"\"\u001b[39;00m\n\u001b[1;32m    815\u001b[0m     \u001b[38;5;66;03m# may pass tuple instead of argument list\u001b[39;00m\n",
      "\u001b[0;31mKeyboardInterrupt\u001b[0m: "
     ]
    }
   ],
   "source": [
    "# Use GPU if it's available\n",
    "device = torch.device(\"cuda\" if torch.cuda.is_available() else \"cpu\")\n",
    "model.to(device)\n",
    "\n",
    "#set Variables for training\n",
    "epochs = 5\n",
    "training_steps = 0\n",
    "training_loss = 0\n",
    "validate_every = 5 #how often validation is done i.e. every <validate_every> batches\n",
    "\n",
    "#initialise lists for graphing\n",
    "running_training_loss = []\n",
    "running_validation_loss = []\n",
    "running_validation_accuracy = []\n",
    "\n",
    "for epoch in range(epochs):\n",
    "    for images, labels in trainloader:\n",
    "        start = time.time()\n",
    "        training_steps += 1\n",
    "        \n",
    "        #move image and label to device\n",
    "        images, labels = images.to(device), labels.to(device)\n",
    "        \n",
    "        #change cshape of images so compatible with input layer (basic neural network only)\n",
    "        #inputs = images.view(images.shape[0],-1)\n",
    "        \n",
    "        #perform training steps\n",
    "        #optimiser gradient will accumulate so set to zero before calculating gradients each time\n",
    "        optimizer.zero_grad()\n",
    "        #find probabilities log is used here because output is an exponent (softmax)\n",
    "        logps = model(images)\n",
    "        #Calculate loss overall\n",
    "        loss = criterion(logps, labels)\n",
    "        #calculate gradients for all parameters\n",
    "        loss.backward()\n",
    "        #Update parameters  \n",
    "        optimizer.step()\n",
    "        \n",
    "        training_loss += loss.item()\n",
    "        \n",
    "        #perform validation every <validate_every> batches\n",
    "        if training_steps % validate_every == 0:\n",
    "            model.eval()\n",
    "            validation_loss = 0\n",
    "            accuracy = 0\n",
    "            \n",
    "            #disable autograd for validation - gradients do not need to be calculated\n",
    "            with torch.no_grad():\n",
    "                #perform validation loop on each batch in the validation loader\n",
    "                for images, labels in validationloader:\n",
    "\n",
    "                    #move image and label to device\n",
    "                    images, labels = images.to(device), labels.to(device)\n",
    "                    \n",
    "                    #change cshape of images so compatible with input layer \n",
    "                    # (basic neural network only convolutional neural network takes in 3d data)\n",
    "                    #inputs = images.view(images.shape[0],-1)\n",
    "\n",
    "                    logps = model(images)\n",
    "                    loss = criterion(logps, labels) #find the loss for this batch\n",
    "                    validation_loss += loss.item() #sum losses for all batches\n",
    "\n",
    "                    #calculate accuracy\n",
    "                    ps = torch.exp(logps)\n",
    "                    top_ps, top_class = ps.topk(1, dim = 1)\n",
    "                    equality = top_class == labels.view(*top_class.shape)\n",
    "                    accuracy += torch.mean(equality.type(torch.FloatTensor))\n",
    "            \n",
    "            running_training_loss.append(training_loss/validate_every)\n",
    "            running_validation_loss.append(validation_loss/len(validationloader))\n",
    "            running_validation_accuracy.append(accuracy/len(validationloader))\n",
    "            \n",
    "            with open('classifier_results_2.txt', 'a') as f:\n",
    "                f.write(f\"\\nDevice = {device} \\n \\\n",
    "                Date: {datetime.now(pytz.timezone('Pacific/Auckland'))} \\n \\\n",
    "                Time for this batch: {(time.time() - start)/3:.3f} seconds \\n \\\n",
    "                Epoch: {epoch + 1}/{epochs} \\n \\\n",
    "                Batch: {training_steps}/{len(trainloader)} \\n \\\n",
    "                Training Loss: {training_loss/validate_every:.3f} \\n \\\n",
    "                Validation Loss: {validation_loss/len(validationloader):.3f} \\n \\\n",
    "                Validation Accuracy: {accuracy/len(validationloader):.3f} \\n\")\n",
    "            \n",
    "            print(f\"Device = {device} \",\n",
    "                  f\"Time for this batch: {(time.time() - start)/3:.3f} seconds \",\n",
    "                  f\" Epoch: {epoch + 1}/{epochs} \",\n",
    "                  f\" Batch: {training_steps}/{len(trainloader)} \",\n",
    "                  f\"Training Loss: {training_loss/validate_every:.3f} \",\n",
    "                  f\"Validation Loss: {validation_loss/len(validationloader):.3f} \", #divide by number of batches to see average los\n",
    "                  f\"Validation Accuracy: {accuracy/len(validationloader):.3f}\") #divide by number of batches to see average accuracy\n",
    "            \n",
    "            training_loss = 0\n",
    "            model.train()"
   ]
  },
  {
   "cell_type": "markdown",
   "metadata": {},
   "source": [
    "Plot the training loss (and validation loss/accuracy, if recorded)."
   ]
  },
  {
   "cell_type": "code",
   "execution_count": null,
   "metadata": {},
   "outputs": [],
   "source": [
    "import matplotlib.pyplot as plt\n",
    "\n",
    "# Set graph size\n",
    "plt.figure(figsize=(8, 4))\n",
    "x = range(1, len(running_validation_accuracy) + 1)\n",
    "y = running_validation_accuracy\n",
    "plt.plot(x, y)\n",
    "# Label the axes\n",
    "plt.ylabel('Validation accuracy')\n",
    "plt.xlabel('Batch')\n",
    "plt.title('Validation accuracy during training')\n",
    "# Dsiplay the plot\n",
    "plt.show()\n",
    "\n",
    "# Set graph size\n",
    "plt.figure(figsize=(8, 4))\n",
    "x = range(1, len(running_training_loss) + 1)\n",
    "y = running_training_loss\n",
    "plt.plot(x, y, label = \"Training loss\")\n",
    "x = range(1, len(running_validation_loss) + 1)\n",
    "y = running_validation_loss\n",
    "plt.plot(x, y, label = \"Validation loss\")\n",
    "# Label the axes\n",
    "plt.ylabel('Loss')\n",
    "plt.xlabel('Batch')\n",
    "plt.title('Losses during training')\n",
    "plt.legend(frameon=False)\n",
    "# Dsiplay the plot\n",
    "plt.show()"
   ]
  },
  {
   "cell_type": "markdown",
   "metadata": {},
   "source": [
    "## Testing your model\n",
    "Using the previously created `DataLoader` for the test set, compute the percentage of correct predictions using the highest probability prediction. \n",
    "\n",
    "If your accuracy is over 70%, great work! \n",
    "This is a hard task to exceed 70% on.\n",
    "\n",
    "If your accuracy is under 45%, you'll need to make improvements.\n",
    "Go back and check your model architecture, loss function, and optimizer to make sure they're appropriate for an image classification task."
   ]
  },
  {
   "cell_type": "code",
   "execution_count": null,
   "metadata": {},
   "outputs": [],
   "source": [
    "# TODO: Do validation on the test set\n",
    "test_loss = 0\n",
    "accuracy = 0\n",
    "testing_steps = 0\n",
    "\n",
    "# Use GPU if it's available\n",
    "device = torch.device(\"cuda\" if torch.cuda.is_available() else \"cpu\")\n",
    "\n",
    "criterion = nn.NLLLoss()\n",
    "model.eval()\n",
    "\n",
    "with torch.no_grad():\n",
    "    #perform validation loop on each batch in the validation loader\n",
    "    for images, labels in testloader:\n",
    "        testing_steps += 1\n",
    "        \n",
    "        #move image and label to device\n",
    "        images, labels = images.to(device), labels.to(device)\n",
    "        #change shape of images so compatible with input layer\n",
    "        inputs = images.view(images.shape[0],-1)\n",
    "\n",
    "        logps = model(inputs)\n",
    "        loss = criterion(logps, labels) #find the loss for this batch\n",
    "        test_loss += loss.item() #sum losses for all batches\n",
    "\n",
    "        #calculate accuracy for each batch\n",
    "        ps = torch.exp(logps)\n",
    "        top_ps, top_class = ps.topk(1, dim = 1)\n",
    "        equality = top_class == labels.view(*top_class.shape)\n",
    "        accuracy += torch.mean(equality.type(torch.FloatTensor))\n",
    "        \n",
    "        print(f\"Test batch: {testing_steps}/{len(testloader)} \",\n",
    "              f\"Test loss: {test_loss/testing_steps:.3f} \", #divide by number of test batches to see average test loss\n",
    "              f\"Test accuracy: {accuracy/testing_steps:.3f}\") #divide by number of test batches to see average test accuracy\n"
   ]
  },
  {
   "cell_type": "markdown",
   "metadata": {},
   "source": [
    "## Saving your model\n",
    "Using `torch.save`, save your model for future loading."
   ]
  },
  {
   "cell_type": "code",
   "execution_count": null,
   "metadata": {},
   "outputs": [],
   "source": [
    "#add the class to indices map\n",
    "model.class_to_idx = train_data.class_to_idx\n",
    "\n",
    "#check mapping has been added\n",
    "print(\"Our model: \\n\\n\", model, '\\n')\n",
    "print(\"The state dict keys: \\n\\n\", model.state_dict().keys())\n",
    "\n",
    "checkpoint = {'class_to_idx': model.class_to_idx,\n",
    "              'state_dict': model.state_dict(),\n",
    "              'optimizer_state_dict': optimizer.state_dict(),         \n",
    "             }\n",
    "\n",
    "torch.save(checkpoint, 'checkpoint.pth')"
   ]
  },
  {
   "cell_type": "markdown",
   "metadata": {},
   "source": [
    "## Make a Recommendation\n",
    "\n",
    "Based on your evaluation, what is your recommendation on whether to build or buy? Explain your reasoning below."
   ]
  },
  {
   "cell_type": "markdown",
   "metadata": {},
   "source": [
    "Definitely buy as 15% accuracy is not much better than guessing!\n"
   ]
  },
  {
   "cell_type": "code",
   "execution_count": null,
   "metadata": {},
   "outputs": [],
   "source": []
  }
 ],
 "metadata": {
  "kernelspec": {
   "display_name": "Python 3 (ipykernel)",
   "language": "python",
   "name": "python3"
  },
  "language_info": {
   "codemirror_mode": {
    "name": "ipython",
    "version": 3
   },
   "file_extension": ".py",
   "mimetype": "text/x-python",
   "name": "python",
   "nbconvert_exporter": "python",
   "pygments_lexer": "ipython3",
   "version": "3.10.11"
  }
 },
 "nbformat": 4,
 "nbformat_minor": 4
}
